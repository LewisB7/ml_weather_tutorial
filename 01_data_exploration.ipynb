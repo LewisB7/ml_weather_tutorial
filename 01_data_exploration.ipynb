{
 "cells": [
  {
   "cell_type": "markdown",
   "id": "403e4bfd-7925-43e2-977b-2baca78c2eaf",
   "metadata": {},
   "source": [
    "# 1. Data Exploration\n",
    "\n",
    "The first section we will look at techniques to load and explore the data to be used for machine learning. The purpose of this exploration to gain an understanding of the data and problem to make sensible choices in building the machine learning pipeline."
   ]
  },
  {
   "cell_type": "markdown",
   "id": "3cceadd3-46b6-42dc-b702-943d09365ca6",
   "metadata": {},
   "source": [
    "NOOA template sections\n",
    "## Overview \n",
    "\n",
    "### Prerequisites\n",
    "xx\n",
    "\n",
    "### Learning Outcomes \n",
    "xx\n",
    "\n",
    "## Tutorial \n",
    "xx\n",
    "\n",
    "## Excercise \n",
    "xx\n",
    "\n",
    "## Examples of use\n",
    "xx\n",
    " \n",
    "## Next steps\n",
    "xx\n",
    "\n",
    "## Dataset Info\n",
    "xx\n",
    "\n",
    "## References\n",
    "xx\n"
   ]
  },
  {
   "cell_type": "markdown",
   "id": "519114fc-17bc-412d-afaf-b74d7838a18e",
   "metadata": {},
   "source": [
    "## Load and explore tabular dataset - falkland islands rotors"
   ]
  },
  {
   "cell_type": "code",
   "execution_count": null,
   "id": "677db567-6260-41fa-bdb9-13850c81c9dd",
   "metadata": {},
   "outputs": [],
   "source": []
  },
  {
   "cell_type": "code",
   "execution_count": null,
   "id": "0a4f1180-69d2-4c0e-856d-ae751f00464f",
   "metadata": {},
   "outputs": [],
   "source": []
  },
  {
   "cell_type": "code",
   "execution_count": null,
   "id": "75fc2e3a-6721-43e7-a37d-b9e9d57c32ca",
   "metadata": {},
   "outputs": [],
   "source": []
  },
  {
   "cell_type": "markdown",
   "id": "8cbd2b43-c7ae-4374-83fc-d7a02239336b",
   "metadata": {},
   "source": [
    "## Load and explore gridded obs dataset - UK radar"
   ]
  },
  {
   "cell_type": "code",
   "execution_count": null,
   "id": "e5cce35a-6fa5-4076-bcff-842dfc47d0b0",
   "metadata": {},
   "outputs": [],
   "source": []
  },
  {
   "cell_type": "code",
   "execution_count": null,
   "id": "3202e048-4b70-4578-b086-c2b52da47997",
   "metadata": {},
   "outputs": [],
   "source": []
  },
  {
   "cell_type": "markdown",
   "id": "f5caf666-d707-4f6a-a180-f32f70ff4ba8",
   "metadata": {},
   "source": [
    "## Load and explore gridded model data - ERA5"
   ]
  },
  {
   "cell_type": "markdown",
   "id": "487d4446-12a4-4d62-8416-222b6266da7f",
   "metadata": {},
   "source": []
  }
 ],
 "metadata": {
  "kernelspec": {
   "display_name": "Python 3 (ipykernel)",
   "language": "python",
   "name": "python3"
  },
  "language_info": {
   "codemirror_mode": {
    "name": "ipython",
    "version": 3
   },
   "file_extension": ".py",
   "mimetype": "text/x-python",
   "name": "python",
   "nbconvert_exporter": "python",
   "pygments_lexer": "ipython3",
   "version": "3.8.13"
  }
 },
 "nbformat": 4,
 "nbformat_minor": 5
}
