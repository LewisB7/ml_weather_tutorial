{
 "cells": [
  {
   "cell_type": "markdown",
   "id": "0f9ac977-3490-46bc-9fb5-3ab1b1c0fb7d",
   "metadata": {},
   "source": [
    "# 2. Building a machine learning pipeline\n",
    "\n",
    "## Overview \n",
    "Having explored the data and defined the problem, we are ready to build an initial pipeline, with choices informed by our data exploration."
   ]
  },
  {
   "cell_type": "markdown",
   "id": "2e680eb7-e443-4eba-a683-4f105c24eeed",
   "metadata": {},
   "source": [
    "### Prerequisites\n",
    "\n",
    "* Same as notebook 1 in this tutorial series, plus successful completion of notebook 1"
   ]
  },
  {
   "cell_type": "markdown",
   "id": "63ccf53c-ef98-4d47-bded-249a5cbd6707",
   "metadata": {},
   "source": [
    "### Learning Outcomes \n",
    "* Understand the fundamental steps in a machine learning pipeline\n",
    "* Understand key terminology in describing the machine learning pipeline\n",
    "* Initial understanding of how to choose appropriate components for each stage in the pipeline."
   ]
  },
  {
   "cell_type": "markdown",
   "id": "6ebdf3e3-2b5d-4aa0-b2e7-e621410a950e",
   "metadata": {},
   "source": [
    "### Best Practices & Values\n",
    "\n",
    "Link to Data Theme\n",
    "Link to ethics Theme\n",
    "link to ML lifecycle theme"
   ]
  },
  {
   "cell_type": "markdown",
   "id": "cab40a7e-6681-4e39-9135-fafc7eb55e15",
   "metadata": {},
   "source": [
    "## Tutorial - Key Elements of a Machine Learning Pipeline\n",
    "\n",
    "Using a series of data science and machine learning and algorithms to go from input data to a series of predictions is usually referred to as a pipeline.  In this noteboook we will be exploring the key components of such a pipeline in constructing and training a machine learning algorithm with some input data.\n",
    "\n",
    "In this notebook we will look at 2 pipeline, one for a **supervised** **classification** problem, and the other for an **unsupervised** clustering problem.\n",
    "\n",
    "The steps we willl go through are as follows:\n",
    "* *Data Loading & Cleaning* - Start by loading the data, and filtering out any data considered to be unsuitable training and evaluation of machine learning algorithms. Selection of appropriate data is an important way in which domain expertise in vital in getting good results.\n",
    "* *Feauture Engineering* - The first step is to prepare the data for presenting to the algorithm. Different ways of presenting the data will emphasise different features, and choosing the right features is important for getting good results. Knowledge of what features represent based on domain knowledge is again very important.\n",
    "* *Train/test Split* - Before we train the algorithm, we need to split into *train* and *test* sets. This is to ensure out algorithm doesn't *overfit*, learning irrelevant details that are not representative of the whole space of possible data, but rather that in generalises well.\n",
    "* *Data Preparation* - The machine learning algorithm only sees numbers as numbers, with no inherent understnading oif meaning or context. We need to ensure different features are scaled to be comparable, otherwise big numbers will be treated as more important by the algorithm, irrespective of what those numbers mean. Value are typically scaled to a range of `[0,1]` or, assuming a gaussian distribution, to have `mean=0` and `std_dev=1`.\n",
    "* *Algorithm Setup* - Here we select the particular algorithm e,.g. neural network, k-means clustering, and specify the *hyperparameters*. It is important to distinguish between *parameters* and *hyperparameters*. \n",
    "  * Parameters are the values that calculated by the training process. \n",
    "  * Hyperparameters are values specified in algorithm setup, which are not altered by training. These need to be fine-tuned using an additional outer training loop called hyperparameter tuning.\n",
    "* *Algorithm Training* - Execute the algorithm to calculate the best parameters for the chosen ML algorithm to fit the supplied training data\n",
    "* *Inference* - Once we have an algorithm, we use it to produce predictions, for both the train and test sets.\n",
    "* *Evaluation* - We then compare the predictions of the trained algorithms to expected results. For supervised learning, this will be supplied target values. For unsupervised learning, we will expplore the results and their usefulness much like in exploratory data analysis.\n",
    "* *Model Storage* - Model training can be an expensive process that we don't want to perform too often, and. once we have a model that performs well we save its state so it can be reloaded and used subsequently for inference on later problems.\n"
   ]
  },
  {
   "cell_type": "markdown",
   "id": "62a9a267-b411-484c-9615-031203571be9",
   "metadata": {},
   "source": [
    "### Key Terms\n",
    "\n",
    "* supervised learning\n",
    "* unsupervised learning\n",
    "* regression\n",
    "* classification\n",
    "* metric\n",
    "* parameter\n",
    "* hyperparameter\n",
    "* feature engineering\n",
    "* training set\n",
    "* validation set\n",
    "* test set\n",
    "* inference\n"
   ]
  },
  {
   "cell_type": "markdown",
   "id": "33fc8c17-9b64-441a-a4ae-2528c51c2283",
   "metadata": {},
   "source": [
    "## Problem 1: Supervised Classification - Falkland Islands Rotor Prediction"
   ]
  },
  {
   "cell_type": "code",
   "execution_count": 107,
   "id": "97a3806c-9b7d-4b7e-855b-e28f256e22d5",
   "metadata": {},
   "outputs": [],
   "source": [
    "import warnings\n",
    "warnings.filterwarnings('ignore')"
   ]
  },
  {
   "cell_type": "code",
   "execution_count": 21,
   "id": "4c56d11e-912d-4046-b7cf-9f839a74fd93",
   "metadata": {},
   "outputs": [],
   "source": [
    "import pathlib\n",
    "import datetime\n",
    "import os\n",
    "import functools\n",
    "import math"
   ]
  },
  {
   "cell_type": "code",
   "execution_count": 4,
   "id": "9e9384dc-476b-4a0c-95e2-4eeb5c9f8f36",
   "metadata": {},
   "outputs": [],
   "source": [
    "import matplotlib\n",
    "%matplotlib inline"
   ]
  },
  {
   "cell_type": "code",
   "execution_count": 92,
   "id": "bd3a8c1f-aea8-4d9f-893d-d76d48ba97ce",
   "metadata": {},
   "outputs": [],
   "source": [
    "import numpy\n",
    "import pandas"
   ]
  },
  {
   "cell_type": "code",
   "execution_count": 6,
   "id": "54a21a65-8caf-421b-999a-e62a67ce4102",
   "metadata": {},
   "outputs": [],
   "source": [
    "import iris\n",
    "import iris.quickplot\n",
    "import iris.coord_categorisation\n",
    "import cartopy\n"
   ]
  },
  {
   "cell_type": "code",
   "execution_count": 100,
   "id": "88896762-086d-4c15-af7c-c3bbf2d45641",
   "metadata": {},
   "outputs": [],
   "source": [
    "import sklearn\n",
    "import sklearn.neural_network\n",
    "import sklearn.preprocessing\n",
    "import sklearn.tree\n",
    "import sklearn.ensemble"
   ]
  },
  {
   "cell_type": "code",
   "execution_count": 5,
   "id": "af772ca5-cc08-4b40-875b-fdfe99140d31",
   "metadata": {},
   "outputs": [
    {
     "name": "stdout",
     "output_type": "stream",
     "text": [
      "/Users/stephen.haddad/data/ml_challenges/Rotors\n"
     ]
    }
   ],
   "source": [
    "try:\n",
    "    falklands_data_dir = os.environ['OPMET_ROTORS_DATA_ROOT']\n",
    "except KeyError:\n",
    "    falklands_data_dir = '/project/informatics_lab/data_science_cop/'\n",
    "falklands_data_dir = pathlib.Path(falklands_data_dir) /  'Rotors'\n",
    "print(falklands_data_dir)"
   ]
  },
  {
   "cell_type": "code",
   "execution_count": 7,
   "id": "4def7624-7333-432b-ba0a-0ad0a0d36afb",
   "metadata": {},
   "outputs": [],
   "source": [
    "falklands_data_fname = 'new_training.csv'"
   ]
  },
  {
   "cell_type": "code",
   "execution_count": 8,
   "id": "e852d339-a91d-44e2-8051-9fc1aa8e23f9",
   "metadata": {},
   "outputs": [
    {
     "data": {
      "text/plain": [
       "PosixPath('/Users/stephen.haddad/data/ml_challenges/Rotors/new_training.csv')"
      ]
     },
     "execution_count": 8,
     "metadata": {},
     "output_type": "execute_result"
    }
   ],
   "source": [
    "falklands_data_path = falklands_data_dir / falklands_data_fname\n",
    "falklands_data_path"
   ]
  },
  {
   "cell_type": "code",
   "execution_count": 27,
   "id": "20fbc099-cd72-4dd6-ae32-5dfa67402a30",
   "metadata": {},
   "outputs": [],
   "source": [
    "falklands_df = pandas.read_csv(falklands_data_path, header=0).loc[1:,:]"
   ]
  },
  {
   "cell_type": "code",
   "execution_count": 28,
   "id": "21956cda-c18f-4930-9ae4-8fcc1d999463",
   "metadata": {},
   "outputs": [],
   "source": [
    "falklands_df = falklands_df.drop_duplicates(subset='DTG')"
   ]
  },
  {
   "cell_type": "code",
   "execution_count": 29,
   "id": "7ab63e83-b076-43aa-819a-019d99fa60fc",
   "metadata": {},
   "outputs": [
    {
     "data": {
      "text/html": [
       "<div>\n",
       "<style scoped>\n",
       "    .dataframe tbody tr th:only-of-type {\n",
       "        vertical-align: middle;\n",
       "    }\n",
       "\n",
       "    .dataframe tbody tr th {\n",
       "        vertical-align: top;\n",
       "    }\n",
       "\n",
       "    .dataframe thead th {\n",
       "        text-align: right;\n",
       "    }\n",
       "</style>\n",
       "<table border=\"1\" class=\"dataframe\">\n",
       "  <thead>\n",
       "    <tr style=\"text-align: right;\">\n",
       "      <th></th>\n",
       "      <th>DTG</th>\n",
       "      <th>air_temp_obs</th>\n",
       "      <th>dewpoint_obs</th>\n",
       "      <th>wind_direction_obs</th>\n",
       "      <th>wind_speed_obs</th>\n",
       "      <th>wind_gust_obs</th>\n",
       "      <th>air_temp_1</th>\n",
       "      <th>air_temp_2</th>\n",
       "      <th>air_temp_3</th>\n",
       "      <th>air_temp_4</th>\n",
       "      <th>...</th>\n",
       "      <th>windspd_18</th>\n",
       "      <th>winddir_19</th>\n",
       "      <th>windspd_19</th>\n",
       "      <th>winddir_20</th>\n",
       "      <th>windspd_20</th>\n",
       "      <th>winddir_21</th>\n",
       "      <th>windspd_21</th>\n",
       "      <th>winddir_22</th>\n",
       "      <th>windspd_22</th>\n",
       "      <th>Rotors 1 is true</th>\n",
       "    </tr>\n",
       "  </thead>\n",
       "  <tbody>\n",
       "    <tr>\n",
       "      <th>1</th>\n",
       "      <td>01/01/2015 00:00</td>\n",
       "      <td>283.9</td>\n",
       "      <td>280.7</td>\n",
       "      <td>110.0</td>\n",
       "      <td>4.1</td>\n",
       "      <td>-9999999.0</td>\n",
       "      <td>284.000</td>\n",
       "      <td>283.625</td>\n",
       "      <td>283.250</td>\n",
       "      <td>282.625</td>\n",
       "      <td>...</td>\n",
       "      <td>5.8</td>\n",
       "      <td>341.0</td>\n",
       "      <td>6.0</td>\n",
       "      <td>334.0</td>\n",
       "      <td>6.1</td>\n",
       "      <td>330.0</td>\n",
       "      <td>6.0</td>\n",
       "      <td>329.0</td>\n",
       "      <td>5.8</td>\n",
       "      <td>NaN</td>\n",
       "    </tr>\n",
       "    <tr>\n",
       "      <th>2</th>\n",
       "      <td>01/01/2015 03:00</td>\n",
       "      <td>280.7</td>\n",
       "      <td>279.7</td>\n",
       "      <td>90.0</td>\n",
       "      <td>7.7</td>\n",
       "      <td>-9999999.0</td>\n",
       "      <td>281.500</td>\n",
       "      <td>281.250</td>\n",
       "      <td>280.750</td>\n",
       "      <td>280.250</td>\n",
       "      <td>...</td>\n",
       "      <td>6.8</td>\n",
       "      <td>344.0</td>\n",
       "      <td>5.3</td>\n",
       "      <td>348.0</td>\n",
       "      <td>3.8</td>\n",
       "      <td>360.0</td>\n",
       "      <td>3.2</td>\n",
       "      <td>12.0</td>\n",
       "      <td>3.5</td>\n",
       "      <td>NaN</td>\n",
       "    </tr>\n",
       "    <tr>\n",
       "      <th>3</th>\n",
       "      <td>01/01/2015 06:00</td>\n",
       "      <td>279.8</td>\n",
       "      <td>278.1</td>\n",
       "      <td>100.0</td>\n",
       "      <td>7.7</td>\n",
       "      <td>-9999999.0</td>\n",
       "      <td>279.875</td>\n",
       "      <td>279.625</td>\n",
       "      <td>279.125</td>\n",
       "      <td>278.625</td>\n",
       "      <td>...</td>\n",
       "      <td>6.0</td>\n",
       "      <td>345.0</td>\n",
       "      <td>5.5</td>\n",
       "      <td>358.0</td>\n",
       "      <td>5.0</td>\n",
       "      <td>10.0</td>\n",
       "      <td>4.2</td>\n",
       "      <td>38.0</td>\n",
       "      <td>4.0</td>\n",
       "      <td>NaN</td>\n",
       "    </tr>\n",
       "    <tr>\n",
       "      <th>4</th>\n",
       "      <td>01/01/2015 09:00</td>\n",
       "      <td>279.9</td>\n",
       "      <td>277.0</td>\n",
       "      <td>120.0</td>\n",
       "      <td>7.2</td>\n",
       "      <td>-9999999.0</td>\n",
       "      <td>279.625</td>\n",
       "      <td>279.250</td>\n",
       "      <td>278.875</td>\n",
       "      <td>278.250</td>\n",
       "      <td>...</td>\n",
       "      <td>3.1</td>\n",
       "      <td>338.0</td>\n",
       "      <td>3.5</td>\n",
       "      <td>354.0</td>\n",
       "      <td>3.9</td>\n",
       "      <td>9.0</td>\n",
       "      <td>4.4</td>\n",
       "      <td>22.0</td>\n",
       "      <td>4.6</td>\n",
       "      <td>NaN</td>\n",
       "    </tr>\n",
       "    <tr>\n",
       "      <th>5</th>\n",
       "      <td>01/01/2015 12:00</td>\n",
       "      <td>279.9</td>\n",
       "      <td>277.4</td>\n",
       "      <td>120.0</td>\n",
       "      <td>8.7</td>\n",
       "      <td>-9999999.0</td>\n",
       "      <td>279.250</td>\n",
       "      <td>278.875</td>\n",
       "      <td>278.375</td>\n",
       "      <td>277.875</td>\n",
       "      <td>...</td>\n",
       "      <td>1.6</td>\n",
       "      <td>273.0</td>\n",
       "      <td>2.0</td>\n",
       "      <td>303.0</td>\n",
       "      <td>2.3</td>\n",
       "      <td>329.0</td>\n",
       "      <td>2.5</td>\n",
       "      <td>338.0</td>\n",
       "      <td>2.4</td>\n",
       "      <td>NaN</td>\n",
       "    </tr>\n",
       "    <tr>\n",
       "      <th>...</th>\n",
       "      <td>...</td>\n",
       "      <td>...</td>\n",
       "      <td>...</td>\n",
       "      <td>...</td>\n",
       "      <td>...</td>\n",
       "      <td>...</td>\n",
       "      <td>...</td>\n",
       "      <td>...</td>\n",
       "      <td>...</td>\n",
       "      <td>...</td>\n",
       "      <td>...</td>\n",
       "      <td>...</td>\n",
       "      <td>...</td>\n",
       "      <td>...</td>\n",
       "      <td>...</td>\n",
       "      <td>...</td>\n",
       "      <td>...</td>\n",
       "      <td>...</td>\n",
       "      <td>...</td>\n",
       "      <td>...</td>\n",
       "      <td>...</td>\n",
       "    </tr>\n",
       "    <tr>\n",
       "      <th>20101</th>\n",
       "      <td>31/12/2020 06:00</td>\n",
       "      <td>276.7</td>\n",
       "      <td>275.5</td>\n",
       "      <td>270.0</td>\n",
       "      <td>3.6</td>\n",
       "      <td>-9999999.0</td>\n",
       "      <td>277.875</td>\n",
       "      <td>277.750</td>\n",
       "      <td>277.625</td>\n",
       "      <td>277.500</td>\n",
       "      <td>...</td>\n",
       "      <td>12.1</td>\n",
       "      <td>223.0</td>\n",
       "      <td>11.8</td>\n",
       "      <td>221.0</td>\n",
       "      <td>11.4</td>\n",
       "      <td>219.0</td>\n",
       "      <td>11.3</td>\n",
       "      <td>215.0</td>\n",
       "      <td>11.4</td>\n",
       "      <td>NaN</td>\n",
       "    </tr>\n",
       "    <tr>\n",
       "      <th>20102</th>\n",
       "      <td>31/12/2020 09:00</td>\n",
       "      <td>277.9</td>\n",
       "      <td>276.9</td>\n",
       "      <td>270.0</td>\n",
       "      <td>3.1</td>\n",
       "      <td>-9999999.0</td>\n",
       "      <td>277.875</td>\n",
       "      <td>277.625</td>\n",
       "      <td>277.875</td>\n",
       "      <td>277.875</td>\n",
       "      <td>...</td>\n",
       "      <td>10.2</td>\n",
       "      <td>230.0</td>\n",
       "      <td>10.8</td>\n",
       "      <td>230.0</td>\n",
       "      <td>11.6</td>\n",
       "      <td>227.0</td>\n",
       "      <td>12.3</td>\n",
       "      <td>222.0</td>\n",
       "      <td>12.0</td>\n",
       "      <td>NaN</td>\n",
       "    </tr>\n",
       "    <tr>\n",
       "      <th>20103</th>\n",
       "      <td>31/12/2020 12:00</td>\n",
       "      <td>283.5</td>\n",
       "      <td>277.1</td>\n",
       "      <td>220.0</td>\n",
       "      <td>3.6</td>\n",
       "      <td>-9999999.0</td>\n",
       "      <td>281.125</td>\n",
       "      <td>280.625</td>\n",
       "      <td>280.125</td>\n",
       "      <td>279.625</td>\n",
       "      <td>...</td>\n",
       "      <td>10.3</td>\n",
       "      <td>218.0</td>\n",
       "      <td>11.9</td>\n",
       "      <td>221.0</td>\n",
       "      <td>12.8</td>\n",
       "      <td>222.0</td>\n",
       "      <td>11.9</td>\n",
       "      <td>225.0</td>\n",
       "      <td>10.6</td>\n",
       "      <td>NaN</td>\n",
       "    </tr>\n",
       "    <tr>\n",
       "      <th>20104</th>\n",
       "      <td>31/12/2020 15:00</td>\n",
       "      <td>286.1</td>\n",
       "      <td>276.9</td>\n",
       "      <td>250.0</td>\n",
       "      <td>3.6</td>\n",
       "      <td>-9999999.0</td>\n",
       "      <td>284.625</td>\n",
       "      <td>284.125</td>\n",
       "      <td>283.625</td>\n",
       "      <td>283.000</td>\n",
       "      <td>...</td>\n",
       "      <td>9.4</td>\n",
       "      <td>218.0</td>\n",
       "      <td>8.6</td>\n",
       "      <td>212.0</td>\n",
       "      <td>8.3</td>\n",
       "      <td>218.0</td>\n",
       "      <td>8.7</td>\n",
       "      <td>226.0</td>\n",
       "      <td>10.1</td>\n",
       "      <td>NaN</td>\n",
       "    </tr>\n",
       "    <tr>\n",
       "      <th>20105</th>\n",
       "      <td>01/01/2021 00:00</td>\n",
       "      <td>285.1</td>\n",
       "      <td>279.3</td>\n",
       "      <td>300.0</td>\n",
       "      <td>6.2</td>\n",
       "      <td>-9999999.0</td>\n",
       "      <td>284.250</td>\n",
       "      <td>284.000</td>\n",
       "      <td>283.750</td>\n",
       "      <td>283.250</td>\n",
       "      <td>...</td>\n",
       "      <td>8.6</td>\n",
       "      <td>241.0</td>\n",
       "      <td>10.2</td>\n",
       "      <td>236.0</td>\n",
       "      <td>10.5</td>\n",
       "      <td>232.0</td>\n",
       "      <td>10.5</td>\n",
       "      <td>227.0</td>\n",
       "      <td>11.3</td>\n",
       "      <td>NaN</td>\n",
       "    </tr>\n",
       "  </tbody>\n",
       "</table>\n",
       "<p>17507 rows × 95 columns</p>\n",
       "</div>"
      ],
      "text/plain": [
       "                    DTG  air_temp_obs  dewpoint_obs  wind_direction_obs  \\\n",
       "1      01/01/2015 00:00         283.9         280.7               110.0   \n",
       "2      01/01/2015 03:00         280.7         279.7                90.0   \n",
       "3      01/01/2015 06:00         279.8         278.1               100.0   \n",
       "4      01/01/2015 09:00         279.9         277.0               120.0   \n",
       "5      01/01/2015 12:00         279.9         277.4               120.0   \n",
       "...                 ...           ...           ...                 ...   \n",
       "20101  31/12/2020 06:00         276.7         275.5               270.0   \n",
       "20102  31/12/2020 09:00         277.9         276.9               270.0   \n",
       "20103  31/12/2020 12:00         283.5         277.1               220.0   \n",
       "20104  31/12/2020 15:00         286.1         276.9               250.0   \n",
       "20105  01/01/2021 00:00         285.1         279.3               300.0   \n",
       "\n",
       "       wind_speed_obs  wind_gust_obs  air_temp_1  air_temp_2  air_temp_3  \\\n",
       "1                 4.1     -9999999.0     284.000     283.625     283.250   \n",
       "2                 7.7     -9999999.0     281.500     281.250     280.750   \n",
       "3                 7.7     -9999999.0     279.875     279.625     279.125   \n",
       "4                 7.2     -9999999.0     279.625     279.250     278.875   \n",
       "5                 8.7     -9999999.0     279.250     278.875     278.375   \n",
       "...               ...            ...         ...         ...         ...   \n",
       "20101             3.6     -9999999.0     277.875     277.750     277.625   \n",
       "20102             3.1     -9999999.0     277.875     277.625     277.875   \n",
       "20103             3.6     -9999999.0     281.125     280.625     280.125   \n",
       "20104             3.6     -9999999.0     284.625     284.125     283.625   \n",
       "20105             6.2     -9999999.0     284.250     284.000     283.750   \n",
       "\n",
       "       air_temp_4  ...  windspd_18  winddir_19  windspd_19  winddir_20  \\\n",
       "1         282.625  ...         5.8       341.0         6.0       334.0   \n",
       "2         280.250  ...         6.8       344.0         5.3       348.0   \n",
       "3         278.625  ...         6.0       345.0         5.5       358.0   \n",
       "4         278.250  ...         3.1       338.0         3.5       354.0   \n",
       "5         277.875  ...         1.6       273.0         2.0       303.0   \n",
       "...           ...  ...         ...         ...         ...         ...   \n",
       "20101     277.500  ...        12.1       223.0        11.8       221.0   \n",
       "20102     277.875  ...        10.2       230.0        10.8       230.0   \n",
       "20103     279.625  ...        10.3       218.0        11.9       221.0   \n",
       "20104     283.000  ...         9.4       218.0         8.6       212.0   \n",
       "20105     283.250  ...         8.6       241.0        10.2       236.0   \n",
       "\n",
       "       windspd_20  winddir_21  windspd_21  winddir_22  windspd_22  \\\n",
       "1             6.1       330.0         6.0       329.0         5.8   \n",
       "2             3.8       360.0         3.2        12.0         3.5   \n",
       "3             5.0        10.0         4.2        38.0         4.0   \n",
       "4             3.9         9.0         4.4        22.0         4.6   \n",
       "5             2.3       329.0         2.5       338.0         2.4   \n",
       "...           ...         ...         ...         ...         ...   \n",
       "20101        11.4       219.0        11.3       215.0        11.4   \n",
       "20102        11.6       227.0        12.3       222.0        12.0   \n",
       "20103        12.8       222.0        11.9       225.0        10.6   \n",
       "20104         8.3       218.0         8.7       226.0        10.1   \n",
       "20105        10.5       232.0        10.5       227.0        11.3   \n",
       "\n",
       "       Rotors 1 is true  \n",
       "1                   NaN  \n",
       "2                   NaN  \n",
       "3                   NaN  \n",
       "4                   NaN  \n",
       "5                   NaN  \n",
       "...                 ...  \n",
       "20101               NaN  \n",
       "20102               NaN  \n",
       "20103               NaN  \n",
       "20104               NaN  \n",
       "20105               NaN  \n",
       "\n",
       "[17507 rows x 95 columns]"
      ]
     },
     "execution_count": 29,
     "metadata": {},
     "output_type": "execute_result"
    }
   ],
   "source": [
    "falklands_df"
   ]
  },
  {
   "cell_type": "code",
   "execution_count": 45,
   "id": "d715f5c4-de59-42e3-8b47-fcd67e97af94",
   "metadata": {},
   "outputs": [],
   "source": [
    "falklands_df['time'] = pandas.to_datetime(falklands_df['DTG'])"
   ]
  },
  {
   "cell_type": "markdown",
   "id": "0b8a49f2-eb8e-4184-aac4-97f426a718e9",
   "metadata": {},
   "source": [
    "## Feature Engineering"
   ]
  },
  {
   "cell_type": "markdown",
   "id": "21e38f0d-e90d-4b3c-ac05-71ccb0b21969",
   "metadata": {},
   "source": [
    "Having loaded the data, we then do some preprocessing. This includes:\n",
    "* Specify feature names\n",
    "* convert wind speed / direction back to u/v wind. This is because these parameters will vary more smoothly for northerly winds, which is the wind we are interested in.\n",
    "* prepare the target variable, including filling in missing data."
   ]
  },
  {
   "cell_type": "code",
   "execution_count": 14,
   "id": "5a7bfd1d-158a-4663-a058-6f59bc0a881b",
   "metadata": {},
   "outputs": [],
   "source": [
    "temp_feature_names = [f'air_temp_{i1}' for i1 in range(1,23)]\n",
    "humidity_feature_names = [f'sh_{i1}' for i1 in range(1,23)]\n",
    "wind_direction_feature_names = [f'winddir_{i1}' for i1 in range(1,23)]\n",
    "wind_speed_feature_names = [f'windspd_{i1}' for i1 in range(1,23)]\n",
    "target_feature_name = 'rotors_present'\n"
   ]
  },
  {
   "cell_type": "code",
   "execution_count": 15,
   "id": "ef7b166a-e066-4da5-b40b-5139eec457dd",
   "metadata": {},
   "outputs": [],
   "source": [
    "obs_names = [\n",
    "    'air_temp_obs',\n",
    "    'dewpoint_obs',\n",
    "    'wind_speed_obs',\n",
    "    'wind_direction_obs',\n",
    "]\n",
    "\n",
    "obs_feature_names = [\n",
    "    'air_temp_obs',\n",
    "    'dewpoint_obs',\n",
    "]"
   ]
  },
  {
   "cell_type": "code",
   "execution_count": 18,
   "id": "76d73fbf-1d43-4a04-864b-ff32161619f9",
   "metadata": {},
   "outputs": [],
   "source": [
    "def get_v_wind(wind_dir_name, wind_speed_name, row1):\n",
    "    return math.cos(math.radians(row1[wind_dir_name])) * row1[wind_speed_name]\n",
    "\n",
    "def get_u_wind(wind_dir_name, wind_speed_name, row1):\n",
    "    return math.sin(math.radians(row1[wind_dir_name])) * row1[wind_speed_name]"
   ]
  },
  {
   "cell_type": "code",
   "execution_count": 31,
   "id": "73a632c6-89ef-46a1-9730-8a1f6c7e6e0b",
   "metadata": {},
   "outputs": [
    {
     "name": "stdout",
     "output_type": "stream",
     "text": [
      "CPU times: user 14.7 s, sys: 1.99 s, total: 16.7 s\n",
      "Wall time: 17 s\n"
     ]
    }
   ],
   "source": [
    "%%time\n",
    "u_feature_template = 'u_wind_{level_ix}'\n",
    "v_feature_template = 'v_wind_{level_ix}'\n",
    "u_wind_feature_names = []\n",
    "v_wind_features_names = []\n",
    "for wsn1, wdn1 in zip(wind_speed_feature_names, wind_direction_feature_names):\n",
    "    level_ix = int( wsn1.split('_')[1])\n",
    "    u_feature = u_feature_template.format(level_ix=level_ix)\n",
    "    u_wind_feature_names += [u_feature]\n",
    "    falklands_df[u_feature] = falklands_df.apply(functools.partial(get_u_wind, wdn1, wsn1), axis='columns')\n",
    "    v_feature = v_feature_template.format(level_ix=level_ix)\n",
    "    v_wind_features_names += [v_feature]\n",
    "    falklands_df[v_feature] = falklands_df.apply(functools.partial(get_v_wind, wdn1, wsn1), axis='columns')"
   ]
  },
  {
   "cell_type": "code",
   "execution_count": 32,
   "id": "d9380ded-6669-450d-ac50-0ac74247ee2d",
   "metadata": {},
   "outputs": [],
   "source": [
    "wdn1 = 'wind_direction_obs'\n",
    "wsn1 = 'wind_speed_obs'\n",
    "u_feature = u_feature_template.format(level_ix='obs')\n",
    "obs_feature_names += [u_feature]\n",
    "falklands_df[u_feature] = falklands_df.apply(functools.partial(get_u_wind, wdn1, wsn1), axis='columns')\n",
    "v_feature = v_feature_template.format(level_ix='obs')\n",
    "obs_feature_names += [v_feature]\n",
    "falklands_df[v_feature] = falklands_df.apply(functools.partial(get_v_wind, wdn1, wsn1), axis='columns')"
   ]
  },
  {
   "cell_type": "code",
   "execution_count": 33,
   "id": "848ccb16-717b-492b-9efb-a2da6da62a9d",
   "metadata": {},
   "outputs": [
    {
     "data": {
      "text/html": [
       "<div>\n",
       "<style scoped>\n",
       "    .dataframe tbody tr th:only-of-type {\n",
       "        vertical-align: middle;\n",
       "    }\n",
       "\n",
       "    .dataframe tbody tr th {\n",
       "        vertical-align: top;\n",
       "    }\n",
       "\n",
       "    .dataframe thead th {\n",
       "        text-align: right;\n",
       "    }\n",
       "</style>\n",
       "<table border=\"1\" class=\"dataframe\">\n",
       "  <thead>\n",
       "    <tr style=\"text-align: right;\">\n",
       "      <th></th>\n",
       "      <th>air_temp_obs</th>\n",
       "      <th>dewpoint_obs</th>\n",
       "      <th>u_wind_obs</th>\n",
       "      <th>u_wind_obs</th>\n",
       "      <th>v_wind_obs</th>\n",
       "      <th>u_wind_obs</th>\n",
       "      <th>v_wind_obs</th>\n",
       "    </tr>\n",
       "  </thead>\n",
       "  <tbody>\n",
       "    <tr>\n",
       "      <th>1</th>\n",
       "      <td>283.9</td>\n",
       "      <td>280.7</td>\n",
       "      <td>3.852740</td>\n",
       "      <td>3.852740</td>\n",
       "      <td>-1.402283e+00</td>\n",
       "      <td>3.852740</td>\n",
       "      <td>-1.402283e+00</td>\n",
       "    </tr>\n",
       "    <tr>\n",
       "      <th>2</th>\n",
       "      <td>280.7</td>\n",
       "      <td>279.7</td>\n",
       "      <td>7.700000</td>\n",
       "      <td>7.700000</td>\n",
       "      <td>4.714890e-16</td>\n",
       "      <td>7.700000</td>\n",
       "      <td>4.714890e-16</td>\n",
       "    </tr>\n",
       "    <tr>\n",
       "      <th>3</th>\n",
       "      <td>279.8</td>\n",
       "      <td>278.1</td>\n",
       "      <td>7.583020</td>\n",
       "      <td>7.583020</td>\n",
       "      <td>-1.337091e+00</td>\n",
       "      <td>7.583020</td>\n",
       "      <td>-1.337091e+00</td>\n",
       "    </tr>\n",
       "    <tr>\n",
       "      <th>4</th>\n",
       "      <td>279.9</td>\n",
       "      <td>277.0</td>\n",
       "      <td>6.235383</td>\n",
       "      <td>6.235383</td>\n",
       "      <td>-3.600000e+00</td>\n",
       "      <td>6.235383</td>\n",
       "      <td>-3.600000e+00</td>\n",
       "    </tr>\n",
       "    <tr>\n",
       "      <th>5</th>\n",
       "      <td>279.9</td>\n",
       "      <td>277.4</td>\n",
       "      <td>7.534421</td>\n",
       "      <td>7.534421</td>\n",
       "      <td>-4.350000e+00</td>\n",
       "      <td>7.534421</td>\n",
       "      <td>-4.350000e+00</td>\n",
       "    </tr>\n",
       "    <tr>\n",
       "      <th>...</th>\n",
       "      <td>...</td>\n",
       "      <td>...</td>\n",
       "      <td>...</td>\n",
       "      <td>...</td>\n",
       "      <td>...</td>\n",
       "      <td>...</td>\n",
       "      <td>...</td>\n",
       "    </tr>\n",
       "    <tr>\n",
       "      <th>20101</th>\n",
       "      <td>276.7</td>\n",
       "      <td>275.5</td>\n",
       "      <td>-3.600000</td>\n",
       "      <td>-3.600000</td>\n",
       "      <td>-6.613093e-16</td>\n",
       "      <td>-3.600000</td>\n",
       "      <td>-6.613093e-16</td>\n",
       "    </tr>\n",
       "    <tr>\n",
       "      <th>20102</th>\n",
       "      <td>277.9</td>\n",
       "      <td>276.9</td>\n",
       "      <td>-3.100000</td>\n",
       "      <td>-3.100000</td>\n",
       "      <td>-5.694608e-16</td>\n",
       "      <td>-3.100000</td>\n",
       "      <td>-5.694608e-16</td>\n",
       "    </tr>\n",
       "    <tr>\n",
       "      <th>20103</th>\n",
       "      <td>283.5</td>\n",
       "      <td>277.1</td>\n",
       "      <td>-2.314035</td>\n",
       "      <td>-2.314035</td>\n",
       "      <td>-2.757760e+00</td>\n",
       "      <td>-2.314035</td>\n",
       "      <td>-2.757760e+00</td>\n",
       "    </tr>\n",
       "    <tr>\n",
       "      <th>20104</th>\n",
       "      <td>286.1</td>\n",
       "      <td>276.9</td>\n",
       "      <td>-3.382893</td>\n",
       "      <td>-3.382893</td>\n",
       "      <td>-1.231273e+00</td>\n",
       "      <td>-3.382893</td>\n",
       "      <td>-1.231273e+00</td>\n",
       "    </tr>\n",
       "    <tr>\n",
       "      <th>20105</th>\n",
       "      <td>285.1</td>\n",
       "      <td>279.3</td>\n",
       "      <td>-5.369358</td>\n",
       "      <td>-5.369358</td>\n",
       "      <td>3.100000e+00</td>\n",
       "      <td>-5.369358</td>\n",
       "      <td>3.100000e+00</td>\n",
       "    </tr>\n",
       "  </tbody>\n",
       "</table>\n",
       "<p>17507 rows × 7 columns</p>\n",
       "</div>"
      ],
      "text/plain": [
       "       air_temp_obs  dewpoint_obs  u_wind_obs  u_wind_obs    v_wind_obs  \\\n",
       "1             283.9         280.7    3.852740    3.852740 -1.402283e+00   \n",
       "2             280.7         279.7    7.700000    7.700000  4.714890e-16   \n",
       "3             279.8         278.1    7.583020    7.583020 -1.337091e+00   \n",
       "4             279.9         277.0    6.235383    6.235383 -3.600000e+00   \n",
       "5             279.9         277.4    7.534421    7.534421 -4.350000e+00   \n",
       "...             ...           ...         ...         ...           ...   \n",
       "20101         276.7         275.5   -3.600000   -3.600000 -6.613093e-16   \n",
       "20102         277.9         276.9   -3.100000   -3.100000 -5.694608e-16   \n",
       "20103         283.5         277.1   -2.314035   -2.314035 -2.757760e+00   \n",
       "20104         286.1         276.9   -3.382893   -3.382893 -1.231273e+00   \n",
       "20105         285.1         279.3   -5.369358   -5.369358  3.100000e+00   \n",
       "\n",
       "       u_wind_obs    v_wind_obs  \n",
       "1        3.852740 -1.402283e+00  \n",
       "2        7.700000  4.714890e-16  \n",
       "3        7.583020 -1.337091e+00  \n",
       "4        6.235383 -3.600000e+00  \n",
       "5        7.534421 -4.350000e+00  \n",
       "...           ...           ...  \n",
       "20101   -3.600000 -6.613093e-16  \n",
       "20102   -3.100000 -5.694608e-16  \n",
       "20103   -2.314035 -2.757760e+00  \n",
       "20104   -3.382893 -1.231273e+00  \n",
       "20105   -5.369358  3.100000e+00  \n",
       "\n",
       "[17507 rows x 7 columns]"
      ]
     },
     "execution_count": 33,
     "metadata": {},
     "output_type": "execute_result"
    }
   ],
   "source": [
    "falklands_df[obs_feature_names]"
   ]
  },
  {
   "cell_type": "code",
   "execution_count": 51,
   "id": "14521bf0-1c64-4325-acbc-14cbe61402f5",
   "metadata": {},
   "outputs": [],
   "source": [
    "falklands_df[target_feature_name] =  falklands_df['Rotors 1 is true']\n",
    "falklands_df.loc[falklands_df[falklands_df['Rotors 1 is true'].isna()].index, target_feature_name] = 0.0\n",
    "falklands_df[target_feature_name]  = falklands_df[target_feature_name] .astype(bool)"
   ]
  },
  {
   "cell_type": "code",
   "execution_count": 52,
   "id": "7f5da24f-8047-4cca-b696-37b6afe6cd57",
   "metadata": {},
   "outputs": [
    {
     "data": {
      "text/plain": [
       "False    17058\n",
       "True       449\n",
       "Name: rotors_present, dtype: int64"
      ]
     },
     "execution_count": 52,
     "metadata": {},
     "output_type": "execute_result"
    }
   ],
   "source": [
    "falklands_df[target_feature_name].value_counts()"
   ]
  },
  {
   "cell_type": "code",
   "execution_count": 39,
   "id": "ee2296a3-a8bd-4ca8-b9d7-915585324f7f",
   "metadata": {},
   "outputs": [
    {
     "data": {
      "text/plain": [
       "Index(['DTG', 'air_temp_obs', 'dewpoint_obs', 'wind_direction_obs',\n",
       "       'wind_speed_obs', 'wind_gust_obs', 'air_temp_1', 'air_temp_2',\n",
       "       'air_temp_3', 'air_temp_4',\n",
       "       ...\n",
       "       'v_wind_19', 'u_wind_20', 'v_wind_20', 'u_wind_21', 'v_wind_21',\n",
       "       'u_wind_22', 'v_wind_22', 'u_wind_obs', 'v_wind_obs', 'rotors_present'],\n",
       "      dtype='object', length=142)"
      ]
     },
     "execution_count": 39,
     "metadata": {},
     "output_type": "execute_result"
    }
   ],
   "source": [
    "falklands_df.columns"
   ]
  },
  {
   "cell_type": "code",
   "execution_count": 44,
   "id": "48a286c7-6ba7-4b3c-b0a8-1d8ae84e3f6d",
   "metadata": {},
   "outputs": [
    {
     "data": {
      "text/plain": [
       "1       2015-01-01 00:00:00\n",
       "2       2015-01-01 03:00:00\n",
       "3       2015-01-01 06:00:00\n",
       "4       2015-01-01 09:00:00\n",
       "5       2015-01-01 12:00:00\n",
       "                ...        \n",
       "20101   2020-12-31 06:00:00\n",
       "20102   2020-12-31 09:00:00\n",
       "20103   2020-12-31 12:00:00\n",
       "20104   2020-12-31 15:00:00\n",
       "20105   2021-01-01 00:00:00\n",
       "Name: DTG, Length: 17507, dtype: datetime64[ns]"
      ]
     },
     "execution_count": 44,
     "metadata": {},
     "output_type": "execute_result"
    }
   ],
   "source": [
    "falklands_df['time'] = pandas.to_datetime(falklands_df['DTG'])"
   ]
  },
  {
   "cell_type": "markdown",
   "id": "4424f4d2-5ee6-462b-bdec-60da81b5c753",
   "metadata": {},
   "source": [
    "## Train/test Split\n",
    "\n",
    "Splitting data into train/validation/test sets\n",
    "\n",
    "To consider \n",
    "* consistency of distributions\n",
    "* class imbalance\n",
    "* correlation between samples\n"
   ]
  },
  {
   "cell_type": "markdown",
   "id": "60098da2-8d5c-49a6-85d7-7d8bc7623f54",
   "metadata": {},
   "source": [
    "An initial option might be to split randomly, using the built-in scikit learn functionality."
   ]
  },
  {
   "cell_type": "code",
   "execution_count": 60,
   "id": "6dbd1a79-51bd-40ce-95c5-633004f01097",
   "metadata": {},
   "outputs": [],
   "source": [
    "test_fraction = 0.2"
   ]
  },
  {
   "cell_type": "code",
   "execution_count": 72,
   "id": "488b0290-d87c-46fa-884b-215d0bebbba9",
   "metadata": {},
   "outputs": [
    {
     "data": {
      "text/plain": [
       "((13130, 144), (4377, 144))"
      ]
     },
     "execution_count": 72,
     "metadata": {},
     "output_type": "execute_result"
    }
   ],
   "source": [
    "train_random_df, test_random_df = sklearn.model_selection.train_test_split(falklands_df)\n",
    "train_random_df.shape, test_random_df.shape"
   ]
  },
  {
   "cell_type": "code",
   "execution_count": 74,
   "id": "e040aa78-80b4-455b-a7ee-41f82c98d5e5",
   "metadata": {},
   "outputs": [
    {
     "data": {
      "text/plain": [
       "False    12797\n",
       "True       333\n",
       "Name: rotors_present, dtype: int64"
      ]
     },
     "execution_count": 74,
     "metadata": {},
     "output_type": "execute_result"
    }
   ],
   "source": [
    "train_random_df[target_feature_name].value_counts()"
   ]
  },
  {
   "cell_type": "code",
   "execution_count": 75,
   "id": "d16cbe98-430c-42d0-ab04-d8d0f0acf3df",
   "metadata": {},
   "outputs": [
    {
     "data": {
      "text/plain": [
       "False    4261\n",
       "True      116\n",
       "Name: rotors_present, dtype: int64"
      ]
     },
     "execution_count": 75,
     "metadata": {},
     "output_type": "execute_result"
    }
   ],
   "source": [
    "test_random_df[target_feature_name].value_counts()"
   ]
  },
  {
   "cell_type": "markdown",
   "id": "b7548195-49b8-4e20-802b-9423a526e94e",
   "metadata": {},
   "source": [
    "We know that our 2 classes (rotor detected/ no rotor detected) are imbalanced, so we might want to select from each class, to ensure our train/test splits have distributions which reflect the larger distribution."
   ]
  },
  {
   "cell_type": "code",
   "execution_count": 65,
   "id": "dad10ddd-372e-4785-bb96-821cf4e5769b",
   "metadata": {},
   "outputs": [],
   "source": [
    "num_no_rotors = sum(falklands_df[target_feature_name] == False)\n",
    "num_with_rotors = sum(falklands_df[target_feature_name] == True)"
   ]
  },
  {
   "cell_type": "code",
   "execution_count": 62,
   "id": "5e9b35d9-7176-407d-8d4c-deed6af86f25",
   "metadata": {},
   "outputs": [],
   "source": [
    "data_no_rotors = falklands_df[falklands_df[target_feature_name] == False]\n",
    "data_with_rotors = falklands_df[falklands_df[target_feature_name] == True]"
   ]
  },
  {
   "cell_type": "code",
   "execution_count": 68,
   "id": "d5a6cac1-8c2c-40bd-95af-1191abddf514",
   "metadata": {},
   "outputs": [],
   "source": [
    "falklands_df['test_set'] = False\n",
    "falklands_df.loc[data_test.index,'test_set'] = True"
   ]
  },
  {
   "cell_type": "code",
   "execution_count": 80,
   "id": "aa79b05a-acd9-4a76-81a9-295e6bd54fd4",
   "metadata": {},
   "outputs": [],
   "source": [
    "train_class_df = falklands_df[falklands_df['test_set'] == False]\n",
    "test_class_df = falklands_df[falklands_df['test_set'] == True]"
   ]
  },
  {
   "cell_type": "code",
   "execution_count": 81,
   "id": "503f53d9-e553-4eb4-982b-9389f5bc7537",
   "metadata": {},
   "outputs": [
    {
     "data": {
      "text/plain": [
       "False    13647\n",
       "True       360\n",
       "Name: rotors_present, dtype: int64"
      ]
     },
     "execution_count": 81,
     "metadata": {},
     "output_type": "execute_result"
    }
   ],
   "source": [
    "train_class_df[target_feature_name].value_counts()"
   ]
  },
  {
   "cell_type": "code",
   "execution_count": 82,
   "id": "d90b87f5-6ed2-4ad2-aaf0-6667749662d8",
   "metadata": {},
   "outputs": [
    {
     "data": {
      "text/plain": [
       "False    3411\n",
       "True       89\n",
       "Name: rotors_present, dtype: int64"
      ]
     },
     "execution_count": 82,
     "metadata": {},
     "output_type": "execute_result"
    }
   ],
   "source": [
    "test_class_df[target_feature_name].value_counts()"
   ]
  },
  {
   "cell_type": "markdown",
   "id": "4f7460ea-f3f0-47f4-a4e5-1318138d874f",
   "metadata": {},
   "source": [
    "We also know though that data points from adjacent points in time are likely to be correlated. As a result dfata in our test set will be correlated with that in our train set if we split randomly. Instead for this problem, we should split by time."
   ]
  },
  {
   "cell_type": "code",
   "execution_count": 56,
   "id": "7196ee19-b04b-4e87-ab27-f1c1cc696e54",
   "metadata": {},
   "outputs": [],
   "source": [
    "train_df = falklands_df[falklands_df['time'] < datetime.datetime(2020,1,1,0,0)]\n",
    "test_df = falklands_df[falklands_df['time'] > datetime.datetime(2020,1,1,0,0)]"
   ]
  },
  {
   "cell_type": "code",
   "execution_count": 58,
   "id": "51d94542-d781-4aa2-bb04-af8017bd20d0",
   "metadata": {},
   "outputs": [
    {
     "data": {
      "text/plain": [
       "False    14273\n",
       "True       320\n",
       "Name: rotors_present, dtype: int64"
      ]
     },
     "execution_count": 58,
     "metadata": {},
     "output_type": "execute_result"
    }
   ],
   "source": [
    "train_df[target_feature_name].value_counts()"
   ]
  },
  {
   "cell_type": "code",
   "execution_count": 59,
   "id": "251296a7-2fc5-4472-8786-0128229aa195",
   "metadata": {},
   "outputs": [
    {
     "data": {
      "text/plain": [
       "False    2784\n",
       "True      129\n",
       "Name: rotors_present, dtype: int64"
      ]
     },
     "execution_count": 59,
     "metadata": {},
     "output_type": "execute_result"
    }
   ],
   "source": [
    "test_df[target_feature_name].value_counts()"
   ]
  },
  {
   "cell_type": "markdown",
   "id": "95bee85d-0e9a-4bc0-bb8d-a371ee72e024",
   "metadata": {},
   "source": [
    "## Data Preparation"
   ]
  },
  {
   "cell_type": "code",
   "execution_count": 84,
   "id": "56aeabfc-e039-4342-b42c-67b14e47da20",
   "metadata": {},
   "outputs": [],
   "source": [
    "input_feature_names = temp_feature_names + humidity_feature_names + u_wind_feature_names + v_wind_features_names"
   ]
  },
  {
   "cell_type": "code",
   "execution_count": 86,
   "id": "c1d63d4b-e984-4d0e-8d17-ced7884418cd",
   "metadata": {},
   "outputs": [],
   "source": [
    "preproc_dict = {}\n",
    "for if1 in input_feature_names:\n",
    "    scaler1 = sklearn.preprocessing.StandardScaler()\n",
    "    scaler1.fit(train_df[[if1]])\n",
    "    preproc_dict[if1] = scaler1"
   ]
  },
  {
   "cell_type": "code",
   "execution_count": 88,
   "id": "897ff819-9a9b-41cc-90de-bd87607d2b22",
   "metadata": {},
   "outputs": [
    {
     "name": "stderr",
     "output_type": "stream",
     "text": [
      "/Users/stephen.haddad/opt/anaconda3/envs/ml-weather-tutorial-skl/lib/python3.8/site-packages/sklearn/utils/validation.py:63: DataConversionWarning: A column-vector y was passed when a 1d array was expected. Please change the shape of y to (n_samples, ), for example using ravel().\n",
      "  return f(*args, **kwargs)\n"
     ]
    },
    {
     "data": {
      "text/plain": [
       "LabelEncoder()"
      ]
     },
     "execution_count": 88,
     "metadata": {},
     "output_type": "execute_result"
    }
   ],
   "source": [
    "target_encoder = sklearn.preprocessing.LabelEncoder()\n",
    "target_encoder.fit(train_df[[target_feature_name]])"
   ]
  },
  {
   "cell_type": "code",
   "execution_count": 89,
   "id": "e779f9d6-bdb9-4376-a3f6-c71b426620a5",
   "metadata": {},
   "outputs": [],
   "source": [
    "def preproc_input(data_subset, pp_dict):\n",
    "    return numpy.concatenate([scaler1.transform(data_subset[[if1]]) for if1,scaler1 in pp_dict.items()],axis=1)\n",
    "\n",
    "def preproc_target(data_subset, enc1):\n",
    "     return enc1.transform(data_subset[[target_feature_name]])\n"
   ]
  },
  {
   "cell_type": "code",
   "execution_count": 93,
   "id": "ef982738-d95a-4c66-a480-cfdabf600a70",
   "metadata": {},
   "outputs": [
    {
     "name": "stderr",
     "output_type": "stream",
     "text": [
      "/Users/stephen.haddad/opt/anaconda3/envs/ml-weather-tutorial-skl/lib/python3.8/site-packages/sklearn/utils/validation.py:63: DataConversionWarning: A column-vector y was passed when a 1d array was expected. Please change the shape of y to (n_samples, ), for example using ravel().\n",
      "  return f(*args, **kwargs)\n"
     ]
    }
   ],
   "source": [
    "X_train = preproc_input(train_df, preproc_dict)\n",
    "y_train = preproc_target(train_df, target_encoder)"
   ]
  },
  {
   "cell_type": "code",
   "execution_count": 94,
   "id": "57734f05-af8d-438c-b9c5-7cf24efcd533",
   "metadata": {},
   "outputs": [
    {
     "data": {
      "text/plain": [
       "((14593,), (14593, 88))"
      ]
     },
     "execution_count": 94,
     "metadata": {},
     "output_type": "execute_result"
    }
   ],
   "source": [
    "y_train.shape, X_train.shape"
   ]
  },
  {
   "cell_type": "code",
   "execution_count": 95,
   "id": "e94c53e5-df08-4f33-9eb3-1e0fa8c67238",
   "metadata": {},
   "outputs": [
    {
     "name": "stderr",
     "output_type": "stream",
     "text": [
      "/Users/stephen.haddad/opt/anaconda3/envs/ml-weather-tutorial-skl/lib/python3.8/site-packages/sklearn/utils/validation.py:63: DataConversionWarning: A column-vector y was passed when a 1d array was expected. Please change the shape of y to (n_samples, ), for example using ravel().\n",
      "  return f(*args, **kwargs)\n"
     ]
    }
   ],
   "source": [
    "X_test = preproc_input(test_df, preproc_dict)\n",
    "y_test = preproc_target(test_df, target_encoder)"
   ]
  },
  {
   "cell_type": "code",
   "execution_count": 96,
   "id": "d4aa844a-d198-476e-afb6-7a6328dc7020",
   "metadata": {},
   "outputs": [],
   "source": [
    "train_test_tuples = [\n",
    "    (X_train, y_train),\n",
    "    (X_test, y_test),    \n",
    "]"
   ]
  },
  {
   "cell_type": "markdown",
   "id": "a312cb28-8847-4934-85ee-36b81f2ad349",
   "metadata": {
    "tags": []
   },
   "source": [
    "# Algorithm Setup"
   ]
  },
  {
   "cell_type": "code",
   "execution_count": 101,
   "id": "82ed1fb1-901b-4229-a63f-6fb6e8d81354",
   "metadata": {},
   "outputs": [],
   "source": [
    "classifiers_params = {\n",
    "    'decision_tree': {'class': sklearn.tree.DecisionTreeClassifier, 'opts': {'max_depth':10, 'class_weight':'balanced'}},\n",
    "    'random_forest': {'class': sklearn.ensemble.RandomForestClassifier, 'opts': {'max_depth':10, 'class_weight':'balanced'}},\n",
    "     'ann_5_500': {'class': sklearn.neural_network.MLPClassifier, 'opts': {'hidden_layer_sizes':(500,500,500,500,500)}},   \n",
    "     'ann_3_700': {'class': sklearn.neural_network.MLPClassifier, 'opts': {'hidden_layer_sizes':(700,700,700)}},   \n",
    "}"
   ]
  },
  {
   "cell_type": "code",
   "execution_count": 104,
   "id": "c9a03fd3-5a30-4307-8ccb-fb104f1a947b",
   "metadata": {},
   "outputs": [
    {
     "name": "stdout",
     "output_type": "stream",
     "text": [
      "CPU times: user 75 µs, sys: 1e+03 ns, total: 76 µs\n",
      "Wall time: 79.9 µs\n"
     ]
    }
   ],
   "source": [
    "%%time\n",
    "classifiers_dict = {}             \n",
    "for clf_name, clf_params in classifiers_params.items():\n",
    "    clf1 = clf_params['class'](**clf_params['opts'])\n",
    "    classifiers_dict[clf_name] = clf1"
   ]
  },
  {
   "cell_type": "markdown",
   "id": "9c231d98-4881-439b-bd0a-ab27a8b0fc5b",
   "metadata": {},
   "source": [
    "## Algorithm Training"
   ]
  },
  {
   "cell_type": "code",
   "execution_count": 105,
   "id": "3bcc70f8-8551-42ef-ad21-a8027f6df7fb",
   "metadata": {},
   "outputs": [
    {
     "name": "stdout",
     "output_type": "stream",
     "text": [
      "decision_tree\n",
      "random_forest\n",
      "ann_5_500\n",
      "ann_3_700\n",
      "CPU times: user 59min 1s, sys: 1min 10s, total: 1h 11s\n",
      "Wall time: 12min 35s\n"
     ]
    }
   ],
   "source": [
    "%%time\n",
    "for clf_name, clf1 in classifiers_dict.items():\n",
    "    print(clf_name)\n",
    "    clf1.fit(X_train, y_train)\n"
   ]
  },
  {
   "cell_type": "code",
   "execution_count": null,
   "id": "7769eb9d-4dda-4d3d-a464-34a70267537c",
   "metadata": {},
   "outputs": [],
   "source": []
  },
  {
   "cell_type": "code",
   "execution_count": null,
   "id": "7967d6aa-daaa-417e-832c-fb2d52d6d837",
   "metadata": {},
   "outputs": [],
   "source": []
  },
  {
   "cell_type": "code",
   "execution_count": null,
   "id": "37207838-1d4b-4f5b-924b-57608f3ad50d",
   "metadata": {},
   "outputs": [],
   "source": []
  },
  {
   "cell_type": "markdown",
   "id": "610aff10-dee4-405c-b805-218fbe6cc4b9",
   "metadata": {},
   "source": [
    "## Inference"
   ]
  },
  {
   "cell_type": "code",
   "execution_count": 110,
   "id": "57661dd6-26da-49e5-8556-12b46baf74b2",
   "metadata": {},
   "outputs": [
    {
     "name": "stdout",
     "output_type": "stream",
     "text": [
      "predicted classes train set: [12405, 2188]\n",
      "actual classes train set: [14273, 320]\n",
      "predicted classes train set: [12799, 1794]\n",
      "actual classes train set: [14273, 320]\n",
      "predicted classes train set: [14276, 317]\n",
      "actual classes train set: [14273, 320]\n",
      "predicted classes train set: [14275, 318]\n",
      "actual classes train set: [14273, 320]\n"
     ]
    }
   ],
   "source": [
    "y_pred_train = {}\n",
    "\n",
    "for clf_name, clf1 in classifiers_dict.items():\n",
    "    y_pred = clf1.predict(X_train)\n",
    "    y_pred_train[clf_name] = y_pred\n",
    "    train_df[f'pred_{clf_name}'] = y_pred\n",
    "    rotors_freq = list(train_df[f'pred_{clf_name}'].value_counts())\n",
    "    print(f'predicted classes train set: {rotors_freq}')\n",
    "    actual_freq = list(train_df[target_feature_name].value_counts())\n",
    "    print(f'actual classes train set: {actual_freq}')"
   ]
  },
  {
   "cell_type": "code",
   "execution_count": 112,
   "id": "0035f496-254b-429c-856d-1f4689794dc8",
   "metadata": {},
   "outputs": [
    {
     "name": "stdout",
     "output_type": "stream",
     "text": [
      "predicted classes test set: [2482, 431]\n",
      "actual classes test set: [2784, 129]\n",
      "predicted classes test set: [2561, 352]\n",
      "actual classes test set: [2784, 129]\n",
      "predicted classes test set: [2877, 36]\n",
      "actual classes test set: [2784, 129]\n",
      "predicted classes test set: [2874, 39]\n",
      "actual classes test set: [2784, 129]\n"
     ]
    }
   ],
   "source": [
    "y_pred_test = {}\n",
    "\n",
    "for clf_name, clf1 in classifiers_dict.items():\n",
    "    y_pred = clf1.predict(X_test)\n",
    "    y_pred_test[clf_name] = y_pred\n",
    "    test_df[f'pred_{clf_name}'] = y_pred\n",
    "    rotors_freq = list(test_df[f'pred_{clf_name}'].value_counts())\n",
    "    print(f'predicted classes test set: {rotors_freq}')\n",
    "    actual_freq = list(test_df[target_feature_name].value_counts())\n",
    "    print(f'actual classes test set: {actual_freq}')"
   ]
  },
  {
   "cell_type": "markdown",
   "id": "de953fb7-7d79-4422-a938-61a3a6de80cd",
   "metadata": {},
   "source": [
    "## Evaluation\n",
    "\n",
    "Evaluating classifier performance: Calculating metrics on the predictions for train and test to evaluate the success of the model fitting.\n",
    "Discuss classification metrics\n",
    "* recall, precision \n",
    "* false alarm, miss rate\n",
    "* SEDI\n",
    "* F1\n"
   ]
  },
  {
   "cell_type": "code",
   "execution_count": 126,
   "id": "f92c2875-1425-479c-a03a-aefc278bd383",
   "metadata": {},
   "outputs": [
    {
     "name": "stdout",
     "output_type": "stream",
     "text": [
      "precision=[0.99983877 0.14533821],\n",
      " recall=[0.8689834 0.99375  ],\n",
      " f1-score=[0.92982982 0.25358852],\n",
      " support=[14273   320] \n"
     ]
    }
   ],
   "source": [
    "prec, recall, f1, support = sklearn.metrics.precision_recall_fscore_support(\n",
    "    y_train,\n",
    "    classifiers_dict['decision_tree'].predict(X_train), \n",
    ")\n",
    "\n",
    "print(f'precision={prec},\\n recall={recall},\\n f1-score={f1},\\n support={support} ')\n",
    "\n"
   ]
  },
  {
   "cell_type": "code",
   "execution_count": 127,
   "id": "e7056bab-e71b-4f06-b7aa-ea4e9a3527c7",
   "metadata": {},
   "outputs": [
    {
     "data": {
      "text/plain": [
       "(12403, 1870, 2, 318)"
      ]
     },
     "execution_count": 127,
     "metadata": {},
     "output_type": "execute_result"
    }
   ],
   "source": [
    "true_negatives, false_positives, false_negatives, true_positives = sklearn.metrics.confusion_matrix(\n",
    "    y_train,\n",
    "    classifiers_dict['decision_tree'].predict(X_train),\n",
    ").ravel()\n",
    "true_negatives, false_positives, false_negatives, true_positives"
   ]
  },
  {
   "cell_type": "code",
   "execution_count": 128,
   "id": "9512c2d4-9dfe-4e4b-ae00-eef9940ec89d",
   "metadata": {},
   "outputs": [
    {
     "data": {
      "text/plain": [
       "array([[12403,  1870],\n",
       "       [    2,   318]])"
      ]
     },
     "execution_count": 128,
     "metadata": {},
     "output_type": "execute_result"
    }
   ],
   "source": [
    "cm1 = sklearn.metrics.confusion_matrix(\n",
    "    y_train,\n",
    "    classifiers_dict['decision_tree'].predict(X_train),\n",
    ")\n",
    "cm1"
   ]
  },
  {
   "cell_type": "markdown",
   "id": "4abf4ecb-a833-4581-9d90-08e8e834b2f1",
   "metadata": {},
   "source": [
    "The confusion matrix shows us where the algorithm correctly predicts Yes or No for a class, and where it gets it wrong.\n",
    "* top left = true negative - Model predicts no rotors where none were observed\n",
    "* top right = false postive (false alarm) - Model predicts rotors where no rotors were observed\n",
    "* bottom left = false negative (miss) - Model predicts no rotors whererotors were actually observed\n",
    "* bottom right = true positive (hit) - Model predicts rotors where rotors were observed\n"
   ]
  },
  {
   "cell_type": "markdown",
   "id": "ebe6bc4c-fa5e-46d1-8220-8d7a83f6ecde",
   "metadata": {},
   "source": [
    "We can use this as the basis for other useful metrics. Hit rate is the proportion of data points where rotors were observed where rotors were actually predicted by the algorithm. The higher the hit rate, the more trust there will be in any positive predictions of rotors."
   ]
  },
  {
   "cell_type": "code",
   "execution_count": 131,
   "id": "f571f67a-4759-47db-9804-f070dd51fd63",
   "metadata": {},
   "outputs": [
    {
     "data": {
      "text/plain": [
       "0.99375"
      ]
     },
     "execution_count": 131,
     "metadata": {},
     "output_type": "execute_result"
    }
   ],
   "source": [
    "hit_rate = cm1[1,1] / (cm1[1,1]+cm1[1,0])\n",
    "hit_rate\n"
   ]
  },
  {
   "cell_type": "markdown",
   "id": "d0c6e39e-258a-4df5-a129-a0cf461634a1",
   "metadata": {},
   "source": [
    "False alarm rate is proportion of data points where no rotors were observed where the model incorrectly predicted rotors."
   ]
  },
  {
   "cell_type": "code",
   "execution_count": 130,
   "id": "f8caf79c-2441-4af3-b632-b84086544501",
   "metadata": {},
   "outputs": [
    {
     "data": {
      "text/plain": [
       "0.13101660477825264"
      ]
     },
     "execution_count": 130,
     "metadata": {},
     "output_type": "execute_result"
    }
   ],
   "source": [
    "false_alarm_rate = cm1[0,1] / (cm1[0,1]+cm1[0,0])\n",
    "false_alarm_rate"
   ]
  },
  {
   "cell_type": "code",
   "execution_count": 133,
   "id": "2860845f-af06-49ba-be2e-2835a7d00638",
   "metadata": {},
   "outputs": [],
   "source": [
    "metrics1 = []\n",
    "for X1, y1 in train_test_tuples:\n",
    "    md1 = {'classifier': [],\n",
    "           'precision_noRotor': [], 'precision_rotor': [],\n",
    "           'recall_noRotor': [], 'recall_rotor': [], \n",
    "           'f1_noRotor': [], 'f1_rotor': [], \n",
    "           'hit_rate': [], 'false_alarm_rate': []\n",
    "          }\n",
    "    for clf_name, clf1 in classifiers_dict.items():\n",
    "        md1['classifier'] += [clf_name]\n",
    "        prec, recall, f1, support = sklearn.metrics.precision_recall_fscore_support(clf1.predict(X1), y1)\n",
    "        md1['precision_noRotor'] += [prec[0]]\n",
    "        md1['precision_rotor'] += [prec[1]]\n",
    "        md1['recall_noRotor'] += [recall[0]]\n",
    "        md1['recall_rotor'] += [recall[1]]\n",
    "        md1['f1_noRotor'] += [f1[0]]\n",
    "        md1['f1_rotor'] += [f1[1]]\n",
    "        cm1 = sklearn.metrics.confusion_matrix(clf1.predict(X1), y1)\n",
    "        hit_rate = cm1[1,1] / (cm1[1,1]+cm1[1,0])\n",
    "        md1['hit_rate'] += [hit_rate]\n",
    "        false_alarm_rate = cm1[0,1] / (cm1[0,1]+cm1[0,0])\n",
    "        md1['false_alarm_rate'] += [false_alarm_rate]\n",
    "    metrics1 += [md1]"
   ]
  },
  {
   "cell_type": "code",
   "execution_count": 135,
   "id": "bf350938-f8b0-46f1-ab90-0c052d6a0214",
   "metadata": {},
   "outputs": [],
   "source": [
    "train_metrics_df = pandas.DataFrame(metrics1[0])\n",
    "test_metrics_df = pandas.DataFrame(metrics1[1])"
   ]
  },
  {
   "cell_type": "code",
   "execution_count": 137,
   "id": "b6bfd084-d63b-4393-94eb-18f54a9c854a",
   "metadata": {},
   "outputs": [
    {
     "data": {
      "text/plain": [
       "<AxesSubplot:title={'center':'false alarm rate (test) for rotors present class'}, xlabel='classifier'>"
      ]
     },
     "execution_count": 137,
     "metadata": {},
     "output_type": "execute_result"
    },
    {
     "data": {
      "image/png": "[encoded data removed]",
      "text/plain": [
       "<Figure size 1152x1440 with 6 Axes>"
      ]
     },
     "metadata": {
      "needs_background": "light"
     },
     "output_type": "display_data"
    }
   ],
   "source": [
    "fig1 = matplotlib.pyplot.figure(figsize=(16,20))\n",
    "ax1 = fig1.add_subplot(3,2,1,title='precision (train) for rotors present class')\n",
    "train_metrics_df.plot.bar(x='classifier', y='precision_rotor', ax=ax1, ylim=[0,1])\n",
    "ax1 = fig1.add_subplot(3,2,2,title='recall (train) for rotors present class')\n",
    "train_metrics_df.plot.bar(x='classifier', y='recall_rotor', ax=ax1, ylim=[0,1])\n",
    "\n",
    "ax1 = fig1.add_subplot(3,2,3,title='precision (test) for rotors present class')\n",
    "test_metrics_df.plot.bar(x='classifier', y='precision_rotor', ax=ax1, ylim=[0,1])\n",
    "ax1 = fig1.add_subplot(3,2,4,title='recall (test) for rotors present class')\n",
    "test_metrics_df.plot.bar(x='classifier', y='recall_rotor', ax=ax1, ylim=[0,1])\n",
    "\n",
    "ax1 = fig1.add_subplot(3,2,5,title='false alarm rate (train) for rotors present class')\n",
    "train_metrics_df.plot.bar(x='classifier', y='false_alarm_rate', ax=ax1, ylim=[0,1])\n",
    "ax1 = fig1.add_subplot(3,2,6,title='false alarm rate (test) for rotors present class')\n",
    "test_metrics_df.plot.bar(x='classifier', y='false_alarm_rate', ax=ax1, ylim=[0,1])"
   ]
  },
  {
   "cell_type": "code",
   "execution_count": 138,
   "id": "87325cef-e3cf-4e6b-b9be-9e295adeec8e",
   "metadata": {},
   "outputs": [],
   "source": [
    "def calc_sedi(conf_mat):\n",
    "    hr1 = conf_mat[1,1] / (conf_mat[1,0] + conf_mat[1,1])\n",
    "    fa1 = conf_mat[0,1] / (conf_mat[0,0] + conf_mat[0,1])\n",
    "    sedi_score1 = (\n",
    "        (numpy.log(fa1) - numpy.log(hr1) - numpy.log(1.0-fa1) + numpy.log(1.0-hr1) )\n",
    "        / (numpy.log(fa1) + numpy.log(hr1) + numpy.log(1.0 - fa1) + numpy.log(1.0-hr1) )  )\n",
    "    return sedi_score1"
   ]
  },
  {
   "cell_type": "code",
   "execution_count": 140,
   "id": "6ed485e2-9000-4f2c-a249-145daca24031",
   "metadata": {},
   "outputs": [],
   "source": [
    "y_train_pred_raw = classifiers_dict['random_forest'].predict_proba(X_train)[:,1]\n",
    "y_test_pred_raw = classifiers_dict['random_forest'].predict_proba(X_test)[:,1]"
   ]
  },
  {
   "cell_type": "code",
   "execution_count": 141,
   "id": "0a6ed6b0-24c8-4821-aed9-c72d563a4d90",
   "metadata": {},
   "outputs": [],
   "source": [
    "thresholds_list = list(numpy.arange(1e-3,0.995,5e-3))\n",
    "hit_rates = []\n",
    "hit_rates_test = []\n",
    "false_alarm_rates = []\n",
    "false_alarm_rates_test = []\n",
    "sedi_list = []\n",
    "sedi_list_test = []\n",
    "for threshold in thresholds_list:\n",
    "    y_pred_train = list(map(float, y_train_pred_raw > threshold)) \n",
    "    cm1 = sklearn.metrics.confusion_matrix(y_train, y_pred_train)\n",
    "    hit_rates += [cm1[1,1] / (cm1[1,0] + cm1[1,1])]\n",
    "    false_alarm_rates += [cm1[0,1] / (cm1[0,0] + cm1[0,1])]\n",
    "    sedi_list += [calc_sedi(cm1)]\n",
    "\n",
    "    y_pred_test = list(map(float, y_test_pred_raw > threshold)) \n",
    "    cm1 = sklearn.metrics.confusion_matrix(y_test, y_pred_test)\n",
    "    hit_rates_test += [cm1[1,1] / (cm1[1,0] + cm1[1,1])]\n",
    "    false_alarm_rates_test += [cm1[0,1] / (cm1[0,0] + cm1[0,1])]\n",
    "    sedi_list_test += [calc_sedi(cm1)]"
   ]
  },
  {
   "cell_type": "code",
   "execution_count": 143,
   "id": "7a8891c6-6d8d-414d-9298-bb2fe79578d3",
   "metadata": {},
   "outputs": [
    {
     "data": {
      "text/plain": [
       "[<matplotlib.lines.Line2D at 0x7fcb4bff6c40>]"
      ]
     },
     "execution_count": 143,
     "metadata": {},
     "output_type": "execute_result"
    },
    {
     "data": {
      "image/png": "[encoded data removed]",
      "text/plain": [
       "<Figure size 1152x720 with 2 Axes>"
      ]
     },
     "metadata": {
      "needs_background": "light"
     },
     "output_type": "display_data"
    }
   ],
   "source": [
    "f1 = matplotlib.pyplot.figure(figsize=(16,10))\n",
    "ax1 = f1.add_subplot(1,2,1,title='hit rates vs false alarms (training data)')\n",
    "ax1.plot(thresholds_list, hit_rates,'r')\n",
    "ax1.plot(thresholds_list, false_alarm_rates,'b')\n",
    "ax1.plot(thresholds_list, sedi_list,'k')\n",
    "\n",
    "ax1 = f1.add_subplot(1,2,2,title='hit rates vs false alarms (test data)')\n",
    "ax1.plot(thresholds_list, hit_rates_test,'r')\n",
    "ax1.plot(thresholds_list, false_alarm_rates_test,'b')\n",
    "ax1.plot(thresholds_list, sedi_list_test,'k')"
   ]
  },
  {
   "cell_type": "markdown",
   "id": "b34b80b3-24b0-47bf-9ae0-439dcc6b63dd",
   "metadata": {
    "tags": []
   },
   "source": [
    "## Model Storage\n",
    "Storing and reusing the trained classifier\n",
    "\n",
    "discuss what elements need to be stored."
   ]
  },
  {
   "cell_type": "code",
   "execution_count": null,
   "id": "cb8e95f8-d37c-42ab-8c4c-62495ff88094",
   "metadata": {},
   "outputs": [],
   "source": [
    "# pickle a random forest object"
   ]
  },
  {
   "cell_type": "code",
   "execution_count": null,
   "id": "9ec6e83b-bb51-46bb-9c91-feedb0b33632",
   "metadata": {},
   "outputs": [],
   "source": [
    "# save a random forest object using ONNX"
   ]
  },
  {
   "cell_type": "code",
   "execution_count": null,
   "id": "79f219ec-a407-4bee-a05e-55f7a82d010e",
   "metadata": {},
   "outputs": [],
   "source": [
    "# save neural network using keras format"
   ]
  },
  {
   "cell_type": "code",
   "execution_count": null,
   "id": "0305fe6e-629b-4746-a0e1-b4440f3f3f50",
   "metadata": {},
   "outputs": [],
   "source": [
    "# load NN and do inference"
   ]
  },
  {
   "cell_type": "code",
   "execution_count": null,
   "id": "08cd2dd4-8664-4547-8f62-13d84142895f",
   "metadata": {},
   "outputs": [],
   "source": [
    "# save neural netowrk"
   ]
  },
  {
   "cell_type": "code",
   "execution_count": null,
   "id": "077713fc-96db-404c-aa47-25e37665871b",
   "metadata": {},
   "outputs": [],
   "source": [
    "# load in and start training (transfer learning)"
   ]
  },
  {
   "cell_type": "markdown",
   "id": "97ac6f5c-8504-47b0-a8c3-f3e9c0eab525",
   "metadata": {},
   "source": [
    "## Problem 2 - Clustering weather types from ERA5"
   ]
  },
  {
   "cell_type": "code",
   "execution_count": null,
   "id": "80bd5ef2-769a-47f7-8ea4-0d674eaebde4",
   "metadata": {},
   "outputs": [],
   "source": []
  },
  {
   "cell_type": "markdown",
   "id": "181333cc-bbfe-4976-948b-9429882b7333",
   "metadata": {},
   "source": [
    "### Loading the data"
   ]
  },
  {
   "cell_type": "code",
   "execution_count": null,
   "id": "de34937e-fc41-4e7f-b4b0-91b25d62a326",
   "metadata": {},
   "outputs": [],
   "source": [
    "# load era5 pressure data"
   ]
  },
  {
   "cell_type": "code",
   "execution_count": null,
   "id": "d5a1303b-698a-4e50-8576-0d8abaa1f964",
   "metadata": {},
   "outputs": [],
   "source": []
  },
  {
   "cell_type": "code",
   "execution_count": null,
   "id": "528b35ec-b5ea-4554-b36b-c2a22c96510f",
   "metadata": {},
   "outputs": [],
   "source": []
  },
  {
   "cell_type": "markdown",
   "id": "fad56ade-5a11-40a0-a530-8d41159c2d7d",
   "metadata": {},
   "source": [
    "### Seperating into train/test sets"
   ]
  },
  {
   "cell_type": "code",
   "execution_count": null,
   "id": "10cdd7a9-dcbd-4e12-8d5c-fd2b0deac249",
   "metadata": {},
   "outputs": [],
   "source": [
    "# 2019-2020 train, 2021 test"
   ]
  },
  {
   "cell_type": "code",
   "execution_count": null,
   "id": "6e5d6912-0241-46cc-a0da-d65d4137f73a",
   "metadata": {},
   "outputs": [],
   "source": []
  },
  {
   "cell_type": "markdown",
   "id": "aad6a2e5-e655-4e3c-a287-ada60354c4d5",
   "metadata": {
    "tags": []
   },
   "source": [
    "### Preprocessing features\n",
    "\n",
    "* Load MLSP data (hourly, global)\n",
    "* Extract UK area from global ERA5 data\n",
    "* Calculate seasonal averages\n",
    "* Calculating the seasonal pressure anomaly for each hour\n",
    "\n"
   ]
  },
  {
   "cell_type": "code",
   "execution_count": null,
   "id": "a1f5ebe9-897d-4f26-a0c7-fd7204927258",
   "metadata": {},
   "outputs": [],
   "source": [
    "# cut out area of interest"
   ]
  },
  {
   "cell_type": "code",
   "execution_count": null,
   "id": "188fb847-a244-486f-af9a-5edbefcb2217",
   "metadata": {},
   "outputs": [],
   "source": [
    "# calculate season means"
   ]
  },
  {
   "cell_type": "code",
   "execution_count": null,
   "id": "24837a09-878b-432e-b956-79135eb4cb57",
   "metadata": {},
   "outputs": [],
   "source": [
    "# substract seasonal means"
   ]
  },
  {
   "cell_type": "code",
   "execution_count": null,
   "id": "5fb500fb-1154-4eb6-b583-846cab10d9a4",
   "metadata": {},
   "outputs": [],
   "source": []
  },
  {
   "cell_type": "markdown",
   "id": "eec98fa0-2c3d-41cb-921c-558ff2e0d3bb",
   "metadata": {},
   "source": [
    "### Different ways of clustering\n",
    "* flatten and k-means\n",
    "* PCA and k-means\n",
    "* Auto-encoder and k-means"
   ]
  },
  {
   "cell_type": "markdown",
   "id": "5299f533-ea68-42e7-ad65-bca0a31c0847",
   "metadata": {},
   "source": [
    "#### Method 1 - Flatten and K-Means"
   ]
  },
  {
   "cell_type": "code",
   "execution_count": null,
   "id": "a6ea9d34-9c5d-462f-a54b-118ef1643abe",
   "metadata": {},
   "outputs": [],
   "source": []
  },
  {
   "cell_type": "markdown",
   "id": "1dc63f7e-e91f-4a89-a9f6-44a768f41741",
   "metadata": {},
   "source": [
    "#### Method 2 - PCA and K-Means"
   ]
  },
  {
   "cell_type": "code",
   "execution_count": null,
   "id": "10e0eb34-e11c-4831-8692-ae1106c45bd2",
   "metadata": {},
   "outputs": [],
   "source": []
  },
  {
   "cell_type": "markdown",
   "id": "72c09945-622d-4ca9-a038-3d3722376263",
   "metadata": {},
   "source": [
    "#### Method 3 - Autoencoder and Latent Space K-Means"
   ]
  },
  {
   "cell_type": "code",
   "execution_count": null,
   "id": "d99b362b-9292-4feb-b468-de41b124cffe",
   "metadata": {},
   "outputs": [],
   "source": []
  },
  {
   "cell_type": "code",
   "execution_count": null,
   "id": "2c0f4391-6fbf-4f75-9b40-bdb5ea00fe72",
   "metadata": {},
   "outputs": [],
   "source": []
  },
  {
   "cell_type": "code",
   "execution_count": null,
   "id": "d4de36ce-7703-4059-b767-0ddb8a344945",
   "metadata": {},
   "outputs": [],
   "source": []
  },
  {
   "cell_type": "markdown",
   "id": "e4f1ab59-aa1f-4486-9e04-dd8bf9038492",
   "metadata": {},
   "source": [
    "Exploring"
   ]
  },
  {
   "cell_type": "code",
   "execution_count": null,
   "id": "845ad074-652a-4642-983c-5533aa3b6cc2",
   "metadata": {},
   "outputs": [],
   "source": []
  },
  {
   "cell_type": "markdown",
   "id": "98329ef7-c77f-4838-9faa-562127517244",
   "metadata": {},
   "source": [
    "## Problem 3 - Radiation Emulation (Regression)"
   ]
  },
  {
   "cell_type": "code",
   "execution_count": null,
   "id": "79b00455-7968-455a-ab0f-1165a9fcd38b",
   "metadata": {},
   "outputs": [],
   "source": [
    "# load radition dataset\n"
   ]
  },
  {
   "cell_type": "code",
   "execution_count": null,
   "id": "80439fbf-3ee0-4bc9-bf27-8d7da5d3a45e",
   "metadata": {},
   "outputs": [],
   "source": [
    "# prepare featureds"
   ]
  },
  {
   "cell_type": "code",
   "execution_count": null,
   "id": "eb5deb36-ff5c-4e99-b2d2-425a9d080670",
   "metadata": {},
   "outputs": [],
   "source": [
    "# split into train test"
   ]
  },
  {
   "cell_type": "code",
   "execution_count": null,
   "id": "74648132-2e7d-45ab-93fc-e1651feae138",
   "metadata": {},
   "outputs": [],
   "source": [
    "# set up 1D CNN architectureb"
   ]
  },
  {
   "cell_type": "code",
   "execution_count": 1,
   "id": "698096c2-ec82-4268-9aea-6be87a3efcd1",
   "metadata": {},
   "outputs": [],
   "source": [
    "# do training"
   ]
  },
  {
   "cell_type": "code",
   "execution_count": null,
   "id": "df7de817-c9c5-466e-8269-aa65afdfaaee",
   "metadata": {},
   "outputs": [],
   "source": [
    "# calculate appropriate metrics"
   ]
  },
  {
   "cell_type": "code",
   "execution_count": null,
   "id": "b7f70d63-f4b4-44b3-8265-46ebdebecf73",
   "metadata": {},
   "outputs": [],
   "source": []
  },
  {
   "cell_type": "markdown",
   "id": "df1260a0-d80a-4566-a9bc-e9867904b6be",
   "metadata": {},
   "source": [
    "## Examples of use\n",
    "* You can see more example notebook relating to this challenge on the [Data Science CoP GitHub repositor](https://github.com/MetOffice/data_science_cop/tree/master/challenges/2021_falklands_rotors).\n",
    " \n"
   ]
  },
  {
   "cell_type": "markdown",
   "id": "5df3187a-261f-4bed-ae13-9b11f47a5f77",
   "metadata": {
    "jp-MarkdownHeadingCollapsed": true,
    "tags": []
   },
   "source": [
    "## Next steps\n",
    "\n"
   ]
  },
  {
   "cell_type": "markdown",
   "id": "58a99adc-b92c-44fe-917f-b0ab2d9552d4",
   "metadata": {},
   "source": [
    "## Dataset Info\n",
    "xx\n"
   ]
  },
  {
   "cell_type": "markdown",
   "id": "9e69e18e-5fe4-41c6-8380-52719b9f082d",
   "metadata": {},
   "source": [
    "## References\n",
    "xx\n"
   ]
  },
  {
   "cell_type": "code",
   "execution_count": null,
   "id": "391979e3-0c79-4ef2-8b01-6061352791c7",
   "metadata": {},
   "outputs": [],
   "source": []
  }
 ],
 "metadata": {
  "kernelspec": {
   "display_name": "Python 3 (ipykernel)",
   "language": "python",
   "name": "python3"
  },
  "language_info": {
   "codemirror_mode": {
    "name": "ipython",
    "version": 3
   },
   "file_extension": ".py",
   "mimetype": "text/x-python",
   "name": "python",
   "nbconvert_exporter": "python",
   "pygments_lexer": "ipython3",
   "version": "3.8.13"
  }
 },
 "nbformat": 4,
 "nbformat_minor": 5
}
