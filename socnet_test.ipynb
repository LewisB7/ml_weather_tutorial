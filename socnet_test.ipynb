{
 "cells": [
  {
   "cell_type": "code",
   "execution_count": 1,
   "id": "b6c82652-b78a-494c-9f5e-38b68cbddc12",
   "metadata": {},
   "outputs": [],
   "source": [
    "import random as rd\n",
    "import sys\n",
    "import copy\n",
    "import pickle\n"
   ]
  },
  {
   "cell_type": "code",
   "execution_count": 2,
   "id": "cf616090-c8a5-4f6d-81c1-8e1902e5aab4",
   "metadata": {},
   "outputs": [],
   "source": [
    "import numpy as np\n",
    "import scipy as sp\n",
    "import matplotlib.pyplot as plt\n"
   ]
  },
  {
   "cell_type": "code",
   "execution_count": 3,
   "id": "ffd00329-f04d-4a46-9303-90c1995356d3",
   "metadata": {},
   "outputs": [],
   "source": [
    "import tensorflow as tf\n",
    "from tensorflow.keras.layers import Dense, Activation, Flatten\n",
    "from tensorflow.keras.layers import Conv1D, concatenate\n",
    "from tensorflow.keras.layers import ZeroPadding1D, Reshape, Input, Dropout, PReLU\n",
    "from tensorflow.keras.models import Sequential, Model\n",
    "import code"
   ]
  },
  {
   "cell_type": "code",
   "execution_count": 6,
   "id": "e2e13c29-8570-4e3f-ab8e-28527f36db1f",
   "metadata": {},
   "outputs": [],
   "source": [
    "ddir   = '/scratch/tdunstan/ml_data/ga7/pickles_keras_v3/'\n",
    "#ddir_out = '/scratch/tdunstan/ml_data/ga7/pickles_keras_v3/models/'\n",
    "\n",
    "wl='sw'\n",
    "\n",
    "target='nflx'\n",
    "\n",
    "nsamps = '50.0K'\n",
    "#nsamps = '100.0K'\n",
    "#nsamps = '200.0K'\n",
    "#nsamps = '500.0K'\n",
    "#nsamps = '1000.0K'\n",
    "\n",
    "scale_data = True\n",
    "\n",
    "if wl=='sw':\n",
    "  model = 'sw_260'\n",
    "  model_ref = 'sw_ga7'\n",
    "\n",
    "if wl=='lw':\n",
    "  model = 'lw_300'\n",
    "  model_ref = 'lw_ga7'\n",
    "#ddir_out = '/scratch/tdunstan/ml_data/ga7/pickles_keras_v3/models/'\n",
    "\n",
    "wl='sw'\n",
    "\n",
    "target='nflx'\n",
    "\n",
    "nsamps = '50.0K'\n",
    "#nsamps = '100.0K'\n",
    "#nsamps = '200.0K'\n",
    "#nsamps = '500.0K'\n",
    "#nsamps = '1000.0K'\n",
    "\n",
    "scale_data = True\n",
    "\n",
    "if wl=='sw':\n",
    "  model = 'sw_260'\n",
    "  model_ref = 'sw_ga7'\n",
    "\n",
    "if wl=='lw':\n",
    "  model = 'lw_300'\n",
    "  model_ref = 'lw_ga7'"
   ]
  },
  {
   "cell_type": "code",
   "execution_count": 7,
   "id": "94df4384-9f1e-4836-a69a-5defff906e5c",
   "metadata": {},
   "outputs": [
    {
     "name": "stdout",
     "output_type": "stream",
     "text": [
      "root dir: /scratch/tdunstan/ml_data/ga7/pickles_keras_v3/\n"
     ]
    }
   ],
   "source": [
    "fnext='train'\n",
    "fn_meta = model+'_meta_'+nsamps+'_'+fnext+'.npz'\n",
    "fn_dat_levs = model+'_dat_levs_'+nsamps+'_'+fnext+'.npz'\n",
    "fn_dat_lays = model+'_dat_lays_'+nsamps+'_'+fnext+'.npz'\n",
    "fn_dat_surf = model+'_dat_surf_'+nsamps+'_'+fnext+'.npz'\n",
    "if target=='nflx':\n",
    "  fn_trg = model+'_trg_levs_'+nsamps+'_'+fnext+'.npz'\n",
    "if target=='ndiv':\n",
    "  fn_trg = model+'_trg_lays_'+nsamps+'_'+fnext+'.npz'\n",
    " \n",
    "fnext='test'\n",
    "fn_meta_test = model+'_meta_'+nsamps+'_'+fnext+'.npz'\n",
    "fn_dat_levs_test = model+'_dat_levs_'+nsamps+'_'+fnext+'.npz'\n",
    "fn_dat_lays_test = model+'_dat_lays_'+nsamps+'_'+fnext+'.npz'\n",
    "fn_dat_surf_test = model+'_dat_surf_'+nsamps+'_'+fnext+'.npz'\n",
    "if target=='nflx':\n",
    "  fn_trg_test = model+'_trg_levs_'+nsamps+'_'+fnext+'.npz'\n",
    "  fn_trg_ref = model_ref+'_trg_levs_'+nsamps+'_'+fnext+'.npz'\n",
    "if target=='ndiv':\n",
    "  fn_trg_test = model+'_trg_lays_'+nsamps+'_'+fnext+'.npz'\n",
    "  fn_trg_ref = model_ref+'_trg_lays_'+nsamps+'_'+fnext+'.npz'\n",
    "\n",
    "print('root dir:',ddir)"
   ]
  },
  {
   "cell_type": "code",
   "execution_count": 8,
   "id": "9cf89ea2-84be-4400-91a9-1511305fcdee",
   "metadata": {},
   "outputs": [
    {
     "name": "stdout",
     "output_type": "stream",
     "text": [
      "loading sw_260_dat_lays_50.0K_train.npz\n"
     ]
    }
   ],
   "source": [
    "print('loading',fn_dat_lays)\n",
    "npzfile = np.load(ddir+fn_dat_lays)\n",
    "dat_lays = npzfile['dat_lays']\n",
    "npzfile.close()\n"
   ]
  },
  {
   "cell_type": "code",
   "execution_count": 9,
   "id": "c8587209-3ae2-4919-85a2-4adb6d9cfbdf",
   "metadata": {},
   "outputs": [
    {
     "name": "stdout",
     "output_type": "stream",
     "text": [
      "loading sw_260_dat_surf_50.0K_train.npz\n"
     ]
    }
   ],
   "source": [
    "print('loading',fn_dat_surf)\n",
    "npzfile = np.load(ddir+fn_dat_surf)\n",
    "dat_surf = npzfile['dat_surf']\n",
    "npzfile.close()"
   ]
  },
  {
   "cell_type": "code",
   "execution_count": 10,
   "id": "c411a38d-f1d3-493c-89c3-39001d68b671",
   "metadata": {},
   "outputs": [
    {
     "name": "stdout",
     "output_type": "stream",
     "text": [
      "loading sw_260_trg_levs_50.0K_train.npz\n"
     ]
    }
   ],
   "source": [
    "print('loading',fn_trg)\n",
    "npzfile = np.load(ddir+fn_trg)\n",
    "if target=='nflx':\n",
    " trg = npzfile['trg_levs']\n",
    "if target=='ndiv':\n",
    " trg = npzfile['trg_lays']\n",
    "npzfile.close()\n"
   ]
  },
  {
   "cell_type": "code",
   "execution_count": 11,
   "id": "64fe3f4f-2e31-485c-97d8-ba62eb36f1c4",
   "metadata": {},
   "outputs": [],
   "source": [
    "nsamps = trg.shape[0]\n",
    "nlays = dat_lays.shape[1]\n",
    "nlay_feats = dat_lays.shape[2]\n",
    "nsurf_feats = dat_surf.shape[1]"
   ]
  },
  {
   "cell_type": "code",
   "execution_count": 12,
   "id": "f0cfd63a-2526-4ef0-915a-e1b5d6b12ff7",
   "metadata": {},
   "outputs": [
    {
     "name": "stdout",
     "output_type": "stream",
     "text": [
      "removing constant layer features: 6\n"
     ]
    }
   ],
   "source": [
    "if scale_data: # normalize by range\n",
    "  scaler_lays = []\n",
    "  use_lays = []\n",
    "  for ic in range(nlay_feats):\n",
    "    min0 = np.min(dat_lays[:,:,ic])\n",
    "    range0 = np.max(dat_lays[:,:,ic]) - min0\n",
    "    if range0 > 0.:\n",
    "      dat_lays[:,:,ic] = (dat_lays[:,:,ic] - min0)/range0\n",
    "      scaler_lays.append([min0, range0])\n",
    "      use_lays.append(ic)\n",
    "  if len(use_lays)<nlay_feats:\n",
    "    print('removing constant layer features:', nlay_feats-len(use_lays))\n",
    "    dat_lays = dat_lays[:,:,use_lays]\n",
    "    nlay_feats = len(use_lays)\n",
    "      \n",
    "\n",
    "  scaler_surf = []\n",
    "  use_surf = []\n",
    "  for ic in range(nsurf_feats):\n",
    "    min0 = np.min(dat_surf[:,ic])\n",
    "    range0 = np.max(dat_surf[:,ic]) - min0\n",
    "    if range0 > 0.:\n",
    "      dat_surf[:,ic] = (dat_surf[:,ic] - min0)/range0\n",
    "      scaler_surf.append([min0, range0])\n",
    "      use_surf.append(ic)\n",
    "  if len(use_surf)<nsurf_feats:\n",
    "    print('removing constant surf features:', nsurf_feats-len(use_surf))\n",
    "    dat_surf = dat_surf[:,:,use_surf]\n",
    "    nsurf_feats = len(use_surf)\n",
    "\n"
   ]
  },
  {
   "cell_type": "code",
   "execution_count": 14,
   "id": "95e28b0f-98cb-4a67-8223-8baf862eeae6",
   "metadata": {},
   "outputs": [],
   "source": [
    "ntrg_samps = trg.shape[0]\n",
    "\n",
    "if target=='nflx' or target=='ndiv':\n",
    "  nouts=1\n",
    "  ntrg_levs = trg.shape[1]\n"
   ]
  },
  {
   "cell_type": "code",
   "execution_count": 15,
   "id": "4dd67ee4-3bb4-41d2-9489-99aade718ade",
   "metadata": {},
   "outputs": [],
   "source": [
    "profile_input = Input(shape=(nlays, nlay_feats), name='profile_input')\n",
    "surf_input = Input(shape=(nsurf_feats,), name='surf_input')\n",
    "flat_profs = Flatten()(profile_input)\n",
    "raw_in = tf.keras.layers.concatenate([flat_profs, surf_input])\n",
    "raw_size = (nlays*nlay_feats)+nsurf_feats\n",
    "prof_size = nlays*nlay_feats\n",
    "\n",
    "x = Dense(512, use_bias=False, activation='relu')(raw_in)\n",
    "x = Dense(512, use_bias=False, activation='relu')(x)\n",
    "x = Dense(256, use_bias=False, activation='relu')(x)\n",
    "x = Dense(256, use_bias=False, activation='relu')(x)\n",
    "x = Dense(128, use_bias=False, activation='relu')(x)\n",
    "x = Dense(128, use_bias=False, activation='relu')(x)\n",
    "\n",
    "main_output = Dense(ntrg_levs, use_bias=True, activation='linear', name='main_output')(x)\n",
    "model = Model(inputs=[profile_input, surf_input], outputs=[main_output])"
   ]
  },
  {
   "cell_type": "code",
   "execution_count": 16,
   "id": "2eb36ffd-b068-4acd-8f2e-534fccc85bf5",
   "metadata": {},
   "outputs": [],
   "source": [
    "\n",
    "\n",
    "model.compile(loss='mean_absolute_error', optimizer='adam')\n"
   ]
  },
  {
   "cell_type": "code",
   "execution_count": 17,
   "id": "44f99087-5107-4375-a789-971373c18066",
   "metadata": {},
   "outputs": [
    {
     "data": {
      "text/plain": [
       "<keras.callbacks.History at 0x2b669f44c640>"
      ]
     },
     "execution_count": 17,
     "metadata": {},
     "output_type": "execute_result"
    }
   ],
   "source": [
    "\n",
    "model.fit([dat_lays, dat_surf], trg, epochs=1, batch_size=32, verbose=0)"
   ]
  },
  {
   "cell_type": "code",
   "execution_count": 18,
   "id": "45d1d8ff-fe98-4c19-b177-a96ec53fd3ed",
   "metadata": {},
   "outputs": [],
   "source": [
    "del dat_lays, dat_surf\n"
   ]
  },
  {
   "cell_type": "code",
   "execution_count": 19,
   "id": "347d87fe-a2a7-489f-8d50-b02ac54c681b",
   "metadata": {},
   "outputs": [
    {
     "name": "stdout",
     "output_type": "stream",
     "text": [
      "loading sw_260_dat_lays_50.0K_test.npz\n",
      "loading sw_260_dat_surf_50.0K_test.npz\n",
      "loading sw_260_trg_levs_50.0K_test.npz\n",
      "loading sw_ga7_trg_levs_50.0K_test.npz\n"
     ]
    }
   ],
   "source": [
    "\n",
    "# load test data\n",
    "print('loading',fn_dat_lays_test)\n",
    "npzfile = np.load(ddir+fn_dat_lays_test)\n",
    "dat_lays_test = npzfile['dat_lays']\n",
    "npzfile.close()\n",
    "\n",
    "print('loading',fn_dat_surf_test)\n",
    "npzfile = np.load(ddir+fn_dat_surf_test)\n",
    "dat_surf_test = npzfile['dat_surf']\n",
    "npzfile.close()\n",
    "\n",
    "print('loading',fn_trg_test)\n",
    "npzfile = np.load(ddir+fn_trg_test)\n",
    "if target=='nflx':\n",
    " trg_test = npzfile['trg_levs']\n",
    "if target=='ndiv':\n",
    " trg_test = npzfile['trg_lays']\n",
    "npzfile.close()\n",
    "\n",
    "print('loading',fn_trg_ref)\n",
    "npzfile = np.load(ddir+fn_trg_ref)\n",
    "if target=='nflx':\n",
    " trg_ref = npzfile['trg_levs_ref']\n",
    "if target=='ndiv':\n",
    " trg_ref = npzfile['trg_lays_ref']\n",
    "npzfile.close()\n"
   ]
  },
  {
   "cell_type": "code",
   "execution_count": 20,
   "id": "0a53579e-00bb-4129-989a-8bbc881c696f",
   "metadata": {},
   "outputs": [],
   "source": [
    "# scale test data\n",
    "if scale_data: # normalize by range\n",
    "  dat_lays_test = dat_lays_test[:,:,use_lays]\n",
    "  for ic in range(nlay_feats):\n",
    "    dat_lays_test[:,:,ic] = (dat_lays_test[:,:,ic] - scaler_lays[ic][0])/scaler_lays[ic][1]\n",
    "\n",
    "  dat_surf_test = dat_surf_test[:,use_surf]\n",
    "  for ic in range(nsurf_feats):\n",
    "    dat_surf_test[:,ic] = (dat_surf_test[:,ic] - scaler_surf[ic][0])/scaler_surf[ic][1]\n",
    "\n"
   ]
  },
  {
   "cell_type": "code",
   "execution_count": 21,
   "id": "8d3920db-faf8-4c36-8085-57ac6380d0c4",
   "metadata": {},
   "outputs": [],
   "source": [
    "p = model.predict([dat_lays_test, dat_surf_test])"
   ]
  },
  {
   "cell_type": "code",
   "execution_count": 22,
   "id": "ec68fea0-9cfd-419e-bdc8-3ec2bba88b05",
   "metadata": {},
   "outputs": [],
   "source": [
    "\n",
    "me_p = np.zeros(ntrg_levs)\n",
    "me_ctl = np.zeros(ntrg_levs)\n",
    "mae_p = np.zeros(ntrg_levs)\n",
    "mae_ctl = np.zeros(ntrg_levs)\n"
   ]
  },
  {
   "cell_type": "code",
   "execution_count": 23,
   "id": "493e9c17-7cc5-4b97-b14d-2149ba931e66",
   "metadata": {},
   "outputs": [],
   "source": [
    "\n",
    "for ilev in range(ntrg_levs):\n",
    "  me_p[ilev] = np.mean(p[:,ilev] - trg_test[:,ilev])\n",
    "  me_ctl[ilev] = np.mean(trg_ref[:,ilev] - trg_test[:,ilev])\n",
    "  mae_p[ilev] = np.mean(np.abs(p[:,ilev] - trg_test[:,ilev]))\n",
    "  mae_ctl[ilev] = np.mean(np.abs(trg_ref[:,ilev] - trg_test[:,ilev]))\n"
   ]
  },
  {
   "cell_type": "code",
   "execution_count": 25,
   "id": "80f046ee-3343-4f8f-8bce-9ae3a3d627a0",
   "metadata": {},
   "outputs": [],
   "source": [
    "yax = np.arange(1,len(me_p[1:])+1)[::-1]\n"
   ]
  },
  {
   "cell_type": "code",
   "execution_count": 26,
   "id": "d013ba7a-0f0f-40f7-866f-c849c26d21ac",
   "metadata": {},
   "outputs": [
    {
     "data": {
      "image/png": "[encoded data removed]",
      "text/plain": [
       "<Figure size 432x288 with 1 Axes>"
      ]
     },
     "metadata": {
      "needs_background": "light"
     },
     "output_type": "display_data"
    }
   ],
   "source": [
    "plt.plot(me_p[1:],yax, '-r', label='ME emu')\n",
    "plt.plot(mae_p[1:],yax, '--r', label='MAE emu')\n",
    "plt.plot(me_ctl[1:],yax, '-c', label='ME ga7')\n",
    "plt.plot(mae_ctl[1:],yax, '--c', label='MAE ga7')\n",
    "plt.xlabel('level')\n",
    "plt.xlabel('flux / flux div. difference')\n",
    "plt.legend(loc='upper right')\n",
    "\n",
    "plt.show()\n"
   ]
  },
  {
   "cell_type": "code",
   "execution_count": 27,
   "id": "cd0a6877-af3e-4e86-a84a-4cfedc252bd1",
   "metadata": {},
   "outputs": [],
   "source": [
    "#model.save(out_pkl_fname1)\n",
    "#\n",
    "#f = open(out_pkl_fname2,'wb')\n",
    "#pickle.dump(me_p,f)\n",
    "#pickle.dump(mae_p,f)\n",
    "#pickle.dump(me_ctl,f)\n",
    "#pickle.dump(mae_ctl,f)\n",
    "#f.close()\n",
    "#\n",
    "#f = open(out_pkl_fname3,'wb')\n",
    "#pickle.dump(scaler_lays,f)\n",
    "#pickle.dump(scaler_surf,f)\n",
    "#pickle.dump(use_lays,f)\n",
    "#pickle.dump(use_surf,f)\n",
    "#f.close()\n",
    "#"
   ]
  },
  {
   "cell_type": "code",
   "execution_count": null,
   "id": "cbdd45fd-bf21-4d6f-a976-08f2dbded5dc",
   "metadata": {},
   "outputs": [],
   "source": []
  }
 ],
 "metadata": {
  "kernelspec": {
   "display_name": ".conda-ml-weather-tutorial-tf Python (Conda)",
   "language": "python",
   "name": "conda-env-.conda-ml-weather-tutorial-tf-py"
  },
  "language_info": {
   "codemirror_mode": {
    "name": "ipython",
    "version": 3
   },
   "file_extension": ".py",
   "mimetype": "text/x-python",
   "name": "python",
   "nbconvert_exporter": "python",
   "pygments_lexer": "ipython3",
   "version": "3.8.13"
  }
 },
 "nbformat": 4,
 "nbformat_minor": 5
}
