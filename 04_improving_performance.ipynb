{
 "cells": [
  {
   "cell_type": "markdown",
   "id": "7868c275-b8aa-4abd-bf13-4c7ac047f9e8",
   "metadata": {},
   "source": [
    "# 4. Improving and understanding algorithm performance.\n",
    "\n",
    "Having built a basic machine learning pipeline, one wants to improve performance to get the best results, and also understand the results of the trained algorithm."
   ]
  },
  {
   "cell_type": "markdown",
   "id": "ffe7e83d-b3c1-42d5-b754-05c0a6c69bb8",
   "metadata": {},
   "source": [
    "## Overview "
   ]
  },
  {
   "cell_type": "markdown",
   "id": "a64c4a63-ae89-41b4-938d-84b3c1aa6230",
   "metadata": {},
   "source": [
    "### Prerequisites"
   ]
  },
  {
   "cell_type": "markdown",
   "id": "9108987e-3ec7-49cf-9efc-a08bebd376fa",
   "metadata": {},
   "source": [
    "### Learning Outcomes \n",
    "xx"
   ]
  },
  {
   "cell_type": "code",
   "execution_count": null,
   "id": "219f015d-8f46-40b6-a36f-014be757855b",
   "metadata": {},
   "outputs": [],
   "source": []
  },
  {
   "cell_type": "code",
   "execution_count": null,
   "id": "cb68d853-0ebe-4044-90b2-0c9a45b18233",
   "metadata": {},
   "outputs": [],
   "source": []
  },
  {
   "cell_type": "code",
   "execution_count": null,
   "id": "492e02d7-2e86-461b-bbc3-3d6a07f6a32d",
   "metadata": {},
   "outputs": [],
   "source": []
  },
  {
   "cell_type": "markdown",
   "id": "d531434e-e7e8-4183-8af1-95c88621943c",
   "metadata": {},
   "source": [
    "\n",
    "## Tutorial \n",
    "Hyperparameter Tuning\n",
    "\n",
    "Data Cleaning Augmentation\n",
    " - imbalance learn\n",
    " - resampling classes\n",
    " \n",
    "Error analysis\n",
    " \n",
    "Interpretability & explainability\n",
    "https://github.com/djgagne/ams-ml-python-course module 4 deals with interpretability\n",
    "\n",
    "Feature Importance\n",
    "\n",
    "Keeping track of results - ML Flow \n",
    "\n"
   ]
  },
  {
   "cell_type": "markdown",
   "id": "cd1df685-9010-4ee6-aa73-e58f1a3d027e",
   "metadata": {},
   "source": [
    "## Excercise \n",
    "*UNDER  CONSTRUCTION*"
   ]
  },
  {
   "cell_type": "code",
   "execution_count": null,
   "id": "bfdfbccb-1639-4d39-8562-ad1dd41e6f23",
   "metadata": {},
   "outputs": [],
   "source": [
    "# load in socrates data"
   ]
  },
  {
   "cell_type": "code",
   "execution_count": null,
   "id": "f97e05d9-839d-49fd-9bc0-59e0114730bd",
   "metadata": {},
   "outputs": [],
   "source": [
    "# explore data"
   ]
  },
  {
   "cell_type": "code",
   "execution_count": null,
   "id": "ec72d625-9b31-494f-ad2e-46fcf42ba685",
   "metadata": {},
   "outputs": [],
   "source": [
    "# create features"
   ]
  },
  {
   "cell_type": "code",
   "execution_count": 4,
   "id": "2bdd2445-c828-4428-a97d-bdefaeb04fd4",
   "metadata": {},
   "outputs": [],
   "source": [
    "# set up network architecture\n"
   ]
  },
  {
   "cell_type": "code",
   "execution_count": null,
   "id": "a55370de-1b5e-4949-9153-51563ca5a2b6",
   "metadata": {},
   "outputs": [],
   "source": [
    "# train network"
   ]
  },
  {
   "cell_type": "code",
   "execution_count": 5,
   "id": "8c08a693-9668-4967-beea-f17558c26400",
   "metadata": {},
   "outputs": [],
   "source": [
    "# evaluate results"
   ]
  },
  {
   "cell_type": "code",
   "execution_count": 6,
   "id": "c8b7a249-2340-4a8a-b85c-ba1cb2643815",
   "metadata": {},
   "outputs": [],
   "source": [
    "# save trained weights and architecture"
   ]
  },
  {
   "cell_type": "markdown",
   "id": "a5adcd91-8eee-4ce5-8c65-3a96dec1343d",
   "metadata": {},
   "source": [
    "## Examples of use\n",
    "*UNDER  CONSTRUCTION*\n"
   ]
  },
  {
   "cell_type": "markdown",
   "id": "510b0c47-f10c-4f14-99a2-5be7fa87b0a2",
   "metadata": {},
   "source": [
    "## Next steps\n",
    "*UNDER  CONSTRUCTION*\n",
    "\n",
    "Interpretable/Explainable Machine Learning - Theory\n",
    "* https://christophm.github.io/interpretable-ml-book/limo.html\n",
    "* https://github.com/interpretml/interpret\n",
    "\n",
    "Interpretable/Explainable Machine Learning - Practical Examples\n",
    "Colab - What IF Tool (WIT)\n",
    "* https://pair-code.github.io/what-if-tool/\n",
    "* https://colab.research.google.com/github/pair-code/what-if-tool/blob/master/WIT_COMPAS_with_SHAP.ipynb#scrollTo=iywHwbJJkeYG\n",
    "\n",
    "* https://github.com/neomatrix369/awesome-ai-ml-dl/blob/master/data/model-analysis-interpretation-explainability.md\n",
    "\n",
    "Interpretable/Explainable Machine Learning - Reading (with examples)\n",
    "* https://towardsdatascience.com/deep-learning-model-interpretation-using-shap-a21786e91d16\n",
    "* https://towardsdatascience.com/explain-any-models-with-the-shap-values-use-the-kernelexplainer-79de9464897a\n",
    "* https://medium.com/dataman-in-ai/explain-your-model-with-lime-5a1a5867b423\n",
    "* https://medium.com/analytics-vidhya/explain-your-model-with-microsofts-interpretml-5daab1d693b4\n",
    "* https://towardsdatascience.com/explain-your-model-with-the-shap-values-bc36aac4de3d\n",
    "* https://medium.com/dataman-in-ai/identify-causality-by-fixed-effects-model-585554bd9735\n",
    "* https://medium.com/dataman-in-ai/identify-causality-by-difference-in-differences-78ad8335fb7c\n",
    "* https://medium.com/dataman-in-ai/identify-causality-by-regression-discontinuity-a4c8fb7507df\n",
    "\n",
    "XAI Short Course Full Syllabus\n",
    "https://github.com/thunderhoser/ai2es_xai_course\n",
    "https://www.youtube.com/playlist?list=PLbelYhZAAHEIr4iC1FNcPXUUYXI0zg_96\n",
    "https://www.youtube.com/watch?v=DfqSZu3aS8E\n"
   ]
  },
  {
   "cell_type": "code",
   "execution_count": null,
   "id": "c9791a89-6db2-4b9a-a1aa-c93ca719fa41",
   "metadata": {},
   "outputs": [],
   "source": []
  },
  {
   "cell_type": "markdown",
   "id": "669cd64f-26da-42ad-8309-c0fcf28d7c2e",
   "metadata": {},
   "source": [
    "## Dataset Info\n",
    "*UNDER  CONSTRUCTION*\n"
   ]
  },
  {
   "cell_type": "markdown",
   "id": "2bcb58a9-80b7-41d4-a82e-090b931d4d27",
   "metadata": {
    "tags": []
   },
   "source": [
    "## References\n",
    "*UNDER  CONSTRUCTION*"
   ]
  }
 ],
 "metadata": {
  "kernelspec": {
   "display_name": "Python 3 (ipykernel)",
   "language": "python",
   "name": "python3"
  },
  "language_info": {
   "codemirror_mode": {
    "name": "ipython",
    "version": 3
   },
   "file_extension": ".py",
   "mimetype": "text/x-python",
   "name": "python",
   "nbconvert_exporter": "python",
   "pygments_lexer": "ipython3",
   "version": "3.8.13"
  }
 },
 "nbformat": 4,
 "nbformat_minor": 5
}
