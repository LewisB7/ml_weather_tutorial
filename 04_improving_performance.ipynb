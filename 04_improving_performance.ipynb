{
 "cells": [
  {
   "cell_type": "markdown",
   "id": "7868c275-b8aa-4abd-bf13-4c7ac047f9e8",
   "metadata": {},
   "source": [
    "# 4. Improving and understanding algorithm performance.\n",
    "\n",
    "Having built a basic machine learning pipeline, one wants to improve performance to get the best results, and also understand the results of the trained algorithm."
   ]
  },
  {
   "cell_type": "markdown",
   "id": "d531434e-e7e8-4183-8af1-95c88621943c",
   "metadata": {},
   "source": [
    "NOOA template sections\n",
    "## Overview \n",
    "\n",
    "### Prerequisites\n",
    "xx\n",
    "\n",
    "### Learning Outcomes \n",
    "xx\n",
    "\n",
    "## Tutorial \n",
    "Hyperparameter Tuning\n",
    "\n",
    "Data Cleaning Augmentation\n",
    " - imbalance learn\n",
    " - resampling classes\n",
    " \n",
    "Interpretability & explainability\n",
    "https://github.com/djgagne/ams-ml-python-course module 4 deals with interpretability\n",
    "\n",
    "Feature Importance\n",
    "\n",
    "New metrics\n",
    "\n",
    "Keeping track of results - ML Flow\n",
    "\n",
    "## Excercise \n",
    "xx\n",
    "\n",
    "## Examples of use\n",
    "xx\n",
    " \n",
    "## Next steps\n",
    "xx\n",
    "\n",
    "## Dataset Info\n",
    "xx\n",
    "\n",
    "## References\n",
    "xx\n"
   ]
  },
  {
   "cell_type": "code",
   "execution_count": null,
   "id": "cf52e8c8-e185-46ec-a75f-67d9311842f6",
   "metadata": {},
   "outputs": [],
   "source": []
  },
  {
   "cell_type": "code",
   "execution_count": null,
   "id": "f91c21b6-c7c5-4532-80b6-c55941e16bc0",
   "metadata": {},
   "outputs": [],
   "source": []
  }
 ],
 "metadata": {
  "kernelspec": {
   "display_name": "Python 3 (ipykernel)",
   "language": "python",
   "name": "python3"
  },
  "language_info": {
   "codemirror_mode": {
    "name": "ipython",
    "version": 3
   },
   "file_extension": ".py",
   "mimetype": "text/x-python",
   "name": "python",
   "nbconvert_exporter": "python",
   "pygments_lexer": "ipython3",
   "version": "3.8.13"
  }
 },
 "nbformat": 4,
 "nbformat_minor": 5
}
