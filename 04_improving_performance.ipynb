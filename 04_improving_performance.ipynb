{
 "cells": [
  {
   "cell_type": "markdown",
   "id": "7868c275-b8aa-4abd-bf13-4c7ac047f9e8",
   "metadata": {},
   "source": [
    "# 4. Improving and understanding algorithm performance.\n",
    "\n",
    "Having built a basic machine learning pipeline, one wants to improve performance to get the best results, and also understand the results of the trained algorithm."
   ]
  },
  {
   "cell_type": "markdown",
   "id": "ffe7e83d-b3c1-42d5-b754-05c0a6c69bb8",
   "metadata": {},
   "source": [
    "## Overview "
   ]
  },
  {
   "cell_type": "markdown",
   "id": "a64c4a63-ae89-41b4-938d-84b3c1aa6230",
   "metadata": {},
   "source": [
    "### Prerequisites"
   ]
  },
  {
   "cell_type": "markdown",
   "id": "9108987e-3ec7-49cf-9efc-a08bebd376fa",
   "metadata": {},
   "source": [
    "### Learning Outcomes \n",
    "* Understand how to improve results through hyperparameter tuning\n",
    "* Understand basic approaches to improving training data through resampling approaches\n",
    "* Understand basic explainability and interpretability methods\n",
    "* Understand the importance of experiment tracking and how to do it\n",
    "* Understand where are perfoprmance bottlenecks and strategies for performance optimisation"
   ]
  },
  {
   "cell_type": "markdown",
   "id": "d531434e-e7e8-4183-8af1-95c88621943c",
   "metadata": {},
   "source": [
    "## Tutorial - Improving ML performance\n",
    "\n",
    "So far in this series of notebooks, we have started by exploring a dataset we want to use with machine learning to tackle a particular problem, so that we understand the requirements and challenges of working with particulard datasets. We have then made use of that knowledge to build a machine learning pipeline to tackle the problem. As a complement to the first notebook seeking to understand the data, the third notebook looked as some of the details of how the algorithms work to help make appropriate choices for the compoenents and hyperparameters of our machine learning pipeline. In this last notebook we will look at some techniques for making use of the knowledge of how the machine learning pipeline fits together to improve the performance of that pipeline for our problem of interest. We will look at three areas:\n",
    "* hyperparameter tuning\n",
    "* resampling data to tackle the imbalanced class problem\n",
    "* machine learning interpretability and explainability\n",
    "\n",
    "\n",
    "### Hyperparameter tuning\n",
    "\n",
    "\n",
    "\n",
    "Feature Importance\n",
    "\n",
    "Keeping track of results - ML Flow \n",
    "Notebook 4 - improving results\n",
    "\n",
    "Hyperparameters tuning\n",
    "Making better use of your data\n",
    "Explainability and interpretability\n",
    "\n",
    "Next steps \n",
    "Data duration and cataloging \n",
    "Scaling\n",
    "Experiment tracking\n",
    "Saving models\n",
    "\n"
   ]
  },
  {
   "cell_type": "markdown",
   "id": "cd1df685-9010-4ee6-aa73-e58f1a3d027e",
   "metadata": {},
   "source": [
    "## Excercise - Hyperparameter tuning\n"
   ]
  },
  {
   "cell_type": "code",
   "execution_count": 1,
   "id": "447118c6-fb34-4c45-8ce5-dd0edbc92705",
   "metadata": {},
   "outputs": [],
   "source": [
    "import pathlib\n",
    "import os\n",
    "import functools\n",
    "import math\n",
    "import datetime"
   ]
  },
  {
   "cell_type": "code",
   "execution_count": 2,
   "id": "4f1290d9-79b7-4824-9757-c471ab45eb22",
   "metadata": {},
   "outputs": [],
   "source": [
    "import pandas\n",
    "import numpy"
   ]
  },
  {
   "cell_type": "code",
   "execution_count": 3,
   "id": "f6857022-753d-4a8d-9045-591a51ad99e2",
   "metadata": {},
   "outputs": [],
   "source": [
    "import matplotlib\n",
    "import matplotlib.pyplot\n",
    "%matplotlib inline"
   ]
  },
  {
   "cell_type": "code",
   "execution_count": 4,
   "id": "a29a4781-3e30-44d8-8cbb-445bdfedbb7f",
   "metadata": {},
   "outputs": [],
   "source": [
    "import sklearn\n",
    "import sklearn.tree\n",
    "import sklearn.preprocessing\n",
    "import sklearn.ensemble"
   ]
  },
  {
   "cell_type": "code",
   "execution_count": 5,
   "id": "bfdfbccb-1639-4d39-8562-ad1dd41e6f23",
   "metadata": {},
   "outputs": [],
   "source": [
    "try:\n",
    "    falklands_data_dir = os.environ['OPMET_ROTORS_DATA_ROOT']\n",
    "except KeyError:\n",
    "    falklands_data_dir = '/project/informatics_lab/data_science_cop/ML_challenges/2021_opmet_challenge'\n",
    "falklands_data_dir = pathlib.Path(falklands_data_dir) /  'Rotors'"
   ]
  },
  {
   "cell_type": "code",
   "execution_count": 6,
   "id": "f97e05d9-839d-49fd-9bc0-59e0114730bd",
   "metadata": {},
   "outputs": [],
   "source": [
    "falklands_data_fname = 'new_training.csv'\n",
    "falklands_data_path = falklands_data_dir / falklands_data_fname\n",
    "falklands_df = pandas.read_csv(falklands_data_path)"
   ]
  },
  {
   "cell_type": "code",
   "execution_count": 7,
   "id": "ec72d625-9b31-494f-ad2e-46fcf42ba685",
   "metadata": {},
   "outputs": [],
   "source": [
    "temp_feature_names = [f'air_temp_{i1}' for i1 in range(1,23)]\n",
    "humidity_feature_names = [f'sh_{i1}' for i1 in range(1,23)]\n",
    "wind_direction_feature_names = [f'winddir_{i1}' for i1 in range(1,23)]\n",
    "wind_speed_feature_names = [f'windspd_{i1}' for i1 in range(1,23)]\n",
    "target_feature_name = 'rotors_present'\n"
   ]
  },
  {
   "cell_type": "code",
   "execution_count": 8,
   "id": "2bdd2445-c828-4428-a97d-bdefaeb04fd4",
   "metadata": {},
   "outputs": [],
   "source": [
    "falklands_df = falklands_df.rename({'Rotors 1 is true': target_feature_name},axis=1)\n",
    "falklands_df.loc[falklands_df[falklands_df[target_feature_name].isna()].index, target_feature_name] = 0\n",
    "falklands_df['DTG'] = pandas.to_datetime(falklands_df['DTG'])\n",
    "falklands_df = falklands_df.drop_duplicates(subset=['DTG'])\n",
    "falklands_df = falklands_df[~falklands_df['DTG'].isnull()]\n",
    "falklands_df = falklands_df[(falklands_df['wind_speed_obs'] >= 0.0) &\n",
    "                            (falklands_df['air_temp_obs'] >= 0.0) &\n",
    "                            (falklands_df['wind_direction_obs'] >= 0.0) &\n",
    "                            (falklands_df['dewpoint_obs'] >= 0.0) \n",
    "                           ]\n",
    "falklands_df = falklands_df.drop_duplicates(subset='DTG')\n",
    "falklands_df[target_feature_name]  = falklands_df[target_feature_name] .astype(bool)\n",
    "falklands_df['time'] = pandas.to_datetime(falklands_df['DTG'])"
   ]
  },
  {
   "cell_type": "code",
   "execution_count": 9,
   "id": "a55370de-1b5e-4949-9153-51563ca5a2b6",
   "metadata": {},
   "outputs": [],
   "source": [
    "def get_v_wind(wind_dir_name, wind_speed_name, row1):\n",
    "    return math.cos(math.radians(row1[wind_dir_name])) * row1[wind_speed_name]\n",
    "\n",
    "def get_u_wind(wind_dir_name, wind_speed_name, row1):\n",
    "    return math.sin(math.radians(row1[wind_dir_name])) * row1[wind_speed_name]"
   ]
  },
  {
   "cell_type": "code",
   "execution_count": 10,
   "id": "8c08a693-9668-4967-beea-f17558c26400",
   "metadata": {},
   "outputs": [
    {
     "name": "stdout",
     "output_type": "stream",
     "text": [
      "CPU times: user 14 s, sys: 1.67 s, total: 15.7 s\n",
      "Wall time: 15.7 s\n"
     ]
    }
   ],
   "source": [
    "%%time\n",
    "u_feature_template = 'u_wind_{level_ix}'\n",
    "v_feature_template = 'v_wind_{level_ix}'\n",
    "u_wind_feature_names = []\n",
    "v_wind_features_names = []\n",
    "for wsn1, wdn1 in zip(wind_speed_feature_names, wind_direction_feature_names):\n",
    "    level_ix = int( wsn1.split('_')[1])\n",
    "    u_feature = u_feature_template.format(level_ix=level_ix)\n",
    "    u_wind_feature_names += [u_feature]\n",
    "    falklands_df[u_feature] = falklands_df.apply(functools.partial(get_u_wind, wdn1, wsn1), axis='columns')\n",
    "    v_feature = v_feature_template.format(level_ix=level_ix)\n",
    "    v_wind_features_names += [v_feature]\n",
    "    falklands_df[v_feature] = falklands_df.apply(functools.partial(get_v_wind, wdn1, wsn1), axis='columns')"
   ]
  },
  {
   "cell_type": "code",
   "execution_count": 11,
   "id": "c8b7a249-2340-4a8a-b85c-ba1cb2643815",
   "metadata": {},
   "outputs": [],
   "source": [
    "rotors_train_df = falklands_df[falklands_df['time'] < datetime.datetime(2020,1,1,0,0)]\n",
    "rotors_test_df = falklands_df[falklands_df['time'] > datetime.datetime(2020,1,1,0,0)]"
   ]
  },
  {
   "cell_type": "code",
   "execution_count": 12,
   "id": "18d2a1df-b3fd-4258-8751-edd49efdf965",
   "metadata": {},
   "outputs": [],
   "source": [
    "def preproc_input(data_subset, pp_dict):\n",
    "    return numpy.concatenate([scaler1.transform(data_subset[[if1]]) for if1,scaler1 in pp_dict.items()],axis=1)\n",
    "\n",
    "def preproc_target(data_subset, enc1):\n",
    "     return enc1.transform(data_subset[[target_feature_name]])\n"
   ]
  },
  {
   "cell_type": "code",
   "execution_count": 13,
   "id": "07891093-5d7a-45a6-8687-a081f43973e9",
   "metadata": {},
   "outputs": [
    {
     "name": "stderr",
     "output_type": "stream",
     "text": [
      "/home/h01/shaddad/.conda/envs/ml-weather-tutorial-skl/lib/python3.8/site-packages/sklearn/utils/validation.py:63: DataConversionWarning: A column-vector y was passed when a 1d array was expected. Please change the shape of y to (n_samples, ), for example using ravel().\n",
      "  return f(*args, **kwargs)\n"
     ]
    },
    {
     "data": {
      "text/plain": [
       "LabelEncoder()"
      ]
     },
     "execution_count": 13,
     "metadata": {},
     "output_type": "execute_result"
    }
   ],
   "source": [
    "input_feature_names = temp_feature_names + humidity_feature_names + u_wind_feature_names + v_wind_features_names\n",
    "preproc_dict = {}\n",
    "for if1 in input_feature_names:\n",
    "    scaler1 = sklearn.preprocessing.StandardScaler()\n",
    "    scaler1.fit(rotors_train_df[[if1]])\n",
    "    preproc_dict[if1] = scaler1\n",
    "    \n",
    "target_encoder = sklearn.preprocessing.LabelEncoder()\n",
    "target_encoder.fit(rotors_train_df[[target_feature_name]])"
   ]
  },
  {
   "cell_type": "code",
   "execution_count": 14,
   "id": "f159381e-3b08-4440-bc79-a6de0f934e28",
   "metadata": {},
   "outputs": [
    {
     "name": "stderr",
     "output_type": "stream",
     "text": [
      "/home/h01/shaddad/.conda/envs/ml-weather-tutorial-skl/lib/python3.8/site-packages/sklearn/utils/validation.py:63: DataConversionWarning: A column-vector y was passed when a 1d array was expected. Please change the shape of y to (n_samples, ), for example using ravel().\n",
      "  return f(*args, **kwargs)\n"
     ]
    }
   ],
   "source": [
    "X_train_rotors = preproc_input(rotors_train_df, preproc_dict)\n",
    "y_train_rotors = preproc_target(rotors_train_df, target_encoder)"
   ]
  },
  {
   "cell_type": "code",
   "execution_count": 15,
   "id": "e324c976-3339-472a-9fa9-af0309ac8ef4",
   "metadata": {},
   "outputs": [
    {
     "name": "stderr",
     "output_type": "stream",
     "text": [
      "/home/h01/shaddad/.conda/envs/ml-weather-tutorial-skl/lib/python3.8/site-packages/sklearn/utils/validation.py:63: DataConversionWarning: A column-vector y was passed when a 1d array was expected. Please change the shape of y to (n_samples, ), for example using ravel().\n",
      "  return f(*args, **kwargs)\n"
     ]
    }
   ],
   "source": [
    "X_test_rotors = preproc_input(rotors_test_df, preproc_dict)\n",
    "y_test_rotors = preproc_target(rotors_test_df, target_encoder)"
   ]
  },
  {
   "cell_type": "code",
   "execution_count": 16,
   "id": "6f0711cd-5c8a-4943-9a46-7b37ea39641e",
   "metadata": {},
   "outputs": [
    {
     "data": {
      "text/plain": [
       "{'ccp_alpha': 0.0,\n",
       " 'class_weight': None,\n",
       " 'criterion': 'gini',\n",
       " 'max_depth': None,\n",
       " 'max_features': None,\n",
       " 'max_leaf_nodes': None,\n",
       " 'min_impurity_decrease': 0.0,\n",
       " 'min_impurity_split': None,\n",
       " 'min_samples_leaf': 1,\n",
       " 'min_samples_split': 2,\n",
       " 'min_weight_fraction_leaf': 0.0,\n",
       " 'random_state': None,\n",
       " 'splitter': 'best'}"
      ]
     },
     "execution_count": 16,
     "metadata": {},
     "output_type": "execute_result"
    }
   ],
   "source": [
    "sklearn.tree.DecisionTreeClassifier().get_params()"
   ]
  },
  {
   "cell_type": "code",
   "execution_count": 17,
   "id": "6c9ab221-3184-4318-a7cf-8bb758a70177",
   "metadata": {},
   "outputs": [],
   "source": [
    "clf_opts = {'max_depth':[5,10,15,20], \n",
    "            'min_samples_leaf': [1,2,5],\n",
    "            'min_samples_split': [4,10,20],\n",
    "            # 'ccp_alpha': [0.0, 0.01, 0.1],\n",
    "           }\n"
   ]
  },
  {
   "cell_type": "code",
   "execution_count": 18,
   "id": "98d94496-e453-4a88-bccc-1fd64432b5c7",
   "metadata": {},
   "outputs": [
    {
     "name": "stdout",
     "output_type": "stream",
     "text": [
      "CPU times: user 2min 22s, sys: 19.3 ms, total: 2min 22s\n",
      "Wall time: 2min 22s\n"
     ]
    }
   ],
   "source": [
    "%%time\n",
    "clf1 = sklearn.tree.DecisionTreeClassifier()\n",
    "cv1 = sklearn.model_selection.KFold(n_splits=5, shuffle=True)\n",
    "hpt_grid = sklearn.model_selection.GridSearchCV(estimator=clf1, \n",
    "                                                param_grid=clf_opts,\n",
    "                                                cv=cv1,\n",
    "                                               )\n",
    "res1 = hpt_grid.fit(X_train_rotors, y_train_rotors)"
   ]
  },
  {
   "cell_type": "code",
   "execution_count": 19,
   "id": "13df6b4c-1c93-4e61-822c-a807f5f525f5",
   "metadata": {},
   "outputs": [
    {
     "data": {
      "text/plain": [
       "DecisionTreeClassifier(max_depth=5, min_samples_leaf=5, min_samples_split=20)"
      ]
     },
     "execution_count": 19,
     "metadata": {},
     "output_type": "execute_result"
    }
   ],
   "source": [
    "hpt_grid.best_estimator_"
   ]
  },
  {
   "cell_type": "code",
   "execution_count": 20,
   "id": "5ab7a85c-3d9f-4bcc-8f39-d24e392348e4",
   "metadata": {},
   "outputs": [
    {
     "data": {
      "text/plain": [
       "DecisionTreeClassifier(max_depth=5, min_samples_leaf=5, min_samples_split=20)"
      ]
     },
     "execution_count": 20,
     "metadata": {},
     "output_type": "execute_result"
    }
   ],
   "source": [
    "hpt_grid.best_estimator_"
   ]
  },
  {
   "cell_type": "code",
   "execution_count": 21,
   "id": "e5075c2b-7553-4512-8762-16ce268a7150",
   "metadata": {},
   "outputs": [],
   "source": [
    "import scipy.stats"
   ]
  },
  {
   "cell_type": "code",
   "execution_count": 22,
   "id": "4db99afb-8cb6-4e7b-929f-6086b37dd9b4",
   "metadata": {},
   "outputs": [
    {
     "name": "stdout",
     "output_type": "stream",
     "text": [
      "CPU times: user 54.3 s, sys: 2.8 ms, total: 54.3 s\n",
      "Wall time: 54.3 s\n"
     ]
    }
   ],
   "source": [
    "%%time\n",
    "hpt_random = sklearn.model_selection.RandomizedSearchCV(estimator=sklearn.tree.DecisionTreeClassifier(),\n",
    "                                                        param_distributions={\n",
    "                                                            'max_depth': scipy.stats.randint(5,10), \n",
    "                                                            'min_samples_leaf': scipy.stats.randint(1,7),\n",
    "                                                            'min_samples_split': scipy.stats.randint(4,20),\n",
    "                                                        },\n",
    "                                                        cv=sklearn.model_selection.KFold(n_splits=5, shuffle=True),\n",
    "                                                        n_iter=20,\n",
    "                                                     )\n",
    "res1 = hpt_random.fit(X_train_rotors, y_train_rotors)  "
   ]
  },
  {
   "cell_type": "code",
   "execution_count": 23,
   "id": "454ced4f-f05f-420b-be05-c9bc92d792f0",
   "metadata": {},
   "outputs": [
    {
     "data": {
      "text/plain": [
       "DecisionTreeClassifier(max_depth=5, min_samples_leaf=6, min_samples_split=18)"
      ]
     },
     "execution_count": 23,
     "metadata": {},
     "output_type": "execute_result"
    }
   ],
   "source": [
    "hpt_random.best_estimator_"
   ]
  },
  {
   "cell_type": "code",
   "execution_count": 24,
   "id": "3a010805-5484-4598-a73a-56a3476eac7b",
   "metadata": {},
   "outputs": [
    {
     "data": {
      "text/plain": [
       "{'ccp_alpha': 0.0,\n",
       " 'class_weight': None,\n",
       " 'criterion': 'gini',\n",
       " 'max_depth': 5,\n",
       " 'max_features': None,\n",
       " 'max_leaf_nodes': None,\n",
       " 'min_impurity_decrease': 0.0,\n",
       " 'min_impurity_split': None,\n",
       " 'min_samples_leaf': 6,\n",
       " 'min_samples_split': 18,\n",
       " 'min_weight_fraction_leaf': 0.0,\n",
       " 'random_state': None,\n",
       " 'splitter': 'best'}"
      ]
     },
     "execution_count": 24,
     "metadata": {},
     "output_type": "execute_result"
    }
   ],
   "source": [
    "hpt_random.best_estimator_.get_params()"
   ]
  },
  {
   "cell_type": "code",
   "execution_count": 25,
   "id": "9af9cbb3-6d3f-4875-b30f-a73cc947e9c5",
   "metadata": {},
   "outputs": [
    {
     "name": "stderr",
     "output_type": "stream",
     "text": [
      "/home/h01/shaddad/.conda/envs/ml-weather-tutorial-skl/lib/python3.8/site-packages/sklearn/metrics/_classification.py:1248: UndefinedMetricWarning: Precision and F-score are ill-defined and being set to 0.0 in labels with no predicted samples. Use `zero_division` parameter to control this behavior.\n",
      "  _warn_prf(average, modifier, msg_start, len(result))\n"
     ]
    },
    {
     "data": {
      "text/plain": [
       "(array([0.95571576, 0.        ]),\n",
       " array([1., 0.]),\n",
       " array([0.9773565, 0.       ]),\n",
       " array([2784,  129]))"
      ]
     },
     "execution_count": 25,
     "metadata": {},
     "output_type": "execute_result"
    }
   ],
   "source": [
    "sklearn.metrics.precision_recall_fscore_support(\n",
    "    y_test_rotors, \n",
    "    hpt_random.best_estimator_.predict(X_test_rotors)\n",
    ")"
   ]
  },
  {
   "cell_type": "code",
   "execution_count": 26,
   "id": "7fd5caaa-e8da-4d72-9a2d-4cd140d97065",
   "metadata": {},
   "outputs": [],
   "source": [
    "hpt_random_recall = sklearn.model_selection.RandomizedSearchCV(estimator=sklearn.tree.DecisionTreeClassifier(),\n",
    "                                                        param_distributions={\n",
    "                                                            'max_depth': scipy.stats.randint(5,10), \n",
    "                                                            'min_samples_leaf': scipy.stats.randint(1,7),\n",
    "                                                            'min_samples_split': scipy.stats.randint(4,20),\n",
    "                                                        },\n",
    "                                                        cv=sklearn.model_selection.KFold(n_splits=5, shuffle=True),\n",
    "                                                        n_iter=20,\n",
    "                                                        scoring='recall',\n",
    "                                                     )\n",
    "res1 = hpt_random_recall.fit(X_train_rotors, y_train_rotors) "
   ]
  },
  {
   "cell_type": "code",
   "execution_count": 27,
   "id": "b4e1e407-ffdd-4d11-b11a-0a6409ff1e0b",
   "metadata": {},
   "outputs": [
    {
     "data": {
      "text/plain": [
       "{'ccp_alpha': 0.0,\n",
       " 'class_weight': None,\n",
       " 'criterion': 'gini',\n",
       " 'max_depth': 9,\n",
       " 'max_features': None,\n",
       " 'max_leaf_nodes': None,\n",
       " 'min_impurity_decrease': 0.0,\n",
       " 'min_impurity_split': None,\n",
       " 'min_samples_leaf': 4,\n",
       " 'min_samples_split': 5,\n",
       " 'min_weight_fraction_leaf': 0.0,\n",
       " 'random_state': None,\n",
       " 'splitter': 'best'}"
      ]
     },
     "execution_count": 27,
     "metadata": {},
     "output_type": "execute_result"
    }
   ],
   "source": [
    "hpt_random_recall.best_estimator_.get_params()"
   ]
  },
  {
   "cell_type": "code",
   "execution_count": 28,
   "id": "072da722-188c-420c-83f6-1a158216ea42",
   "metadata": {},
   "outputs": [
    {
     "data": {
      "text/plain": [
       "(array([0.95909879, 0.39285714]),\n",
       " array([0.99389368, 0.08527132]),\n",
       " array([0.97618628, 0.14012739]),\n",
       " array([2784,  129]))"
      ]
     },
     "execution_count": 28,
     "metadata": {},
     "output_type": "execute_result"
    }
   ],
   "source": [
    "sklearn.metrics.precision_recall_fscore_support(\n",
    "    y_test_rotors, \n",
    "    hpt_random_recall.best_estimator_.predict(X_test_rotors)\n",
    ")"
   ]
  },
  {
   "cell_type": "code",
   "execution_count": 29,
   "id": "115dc377-0ee6-4c06-a098-256c2b6dd807",
   "metadata": {},
   "outputs": [],
   "source": [
    "hpt_random_ba = sklearn.model_selection.RandomizedSearchCV(estimator=sklearn.tree.DecisionTreeClassifier(),\n",
    "                                                        param_distributions={\n",
    "                                                            'max_depth': scipy.stats.randint(5,10), \n",
    "                                                            'min_samples_leaf': scipy.stats.randint(1,7),\n",
    "                                                            'min_samples_split': scipy.stats.randint(4,20),\n",
    "                                                        },\n",
    "                                                        cv=sklearn.model_selection.KFold(n_splits=5, shuffle=True),\n",
    "                                                        n_iter=20,\n",
    "                                                        scoring='balanced_accuracy',\n",
    "                                                     )\n",
    "res1 = hpt_random_ba.fit(X_train_rotors, y_train_rotors) "
   ]
  },
  {
   "cell_type": "code",
   "execution_count": 30,
   "id": "f9cac021-2e63-45bf-811b-405859a27d3b",
   "metadata": {},
   "outputs": [
    {
     "data": {
      "text/plain": [
       "{'ccp_alpha': 0.0,\n",
       " 'class_weight': None,\n",
       " 'criterion': 'gini',\n",
       " 'max_depth': 9,\n",
       " 'max_features': None,\n",
       " 'max_leaf_nodes': None,\n",
       " 'min_impurity_decrease': 0.0,\n",
       " 'min_impurity_split': None,\n",
       " 'min_samples_leaf': 6,\n",
       " 'min_samples_split': 16,\n",
       " 'min_weight_fraction_leaf': 0.0,\n",
       " 'random_state': None,\n",
       " 'splitter': 'best'}"
      ]
     },
     "execution_count": 30,
     "metadata": {},
     "output_type": "execute_result"
    }
   ],
   "source": [
    "hpt_random_ba.best_estimator_.get_params()"
   ]
  },
  {
   "cell_type": "code",
   "execution_count": 31,
   "id": "b3d84910-6dbf-494c-b427-f319ca7933a4",
   "metadata": {},
   "outputs": [
    {
     "data": {
      "text/plain": [
       "(array([0.95886623, 0.5       ]),\n",
       " array([0.99640805, 0.07751938]),\n",
       " array([0.97727673, 0.13422819]),\n",
       " array([2784,  129]))"
      ]
     },
     "execution_count": 31,
     "metadata": {},
     "output_type": "execute_result"
    }
   ],
   "source": [
    "sklearn.metrics.precision_recall_fscore_support(\n",
    "    y_test_rotors, \n",
    "    hpt_random_ba.best_estimator_.predict(X_test_rotors)\n",
    ")"
   ]
  },
  {
   "cell_type": "markdown",
   "id": "646232a7-4c21-47b7-b2c3-e52124f720cd",
   "metadata": {
    "tags": []
   },
   "source": [
    "## Example - resampling data for imbalanced classes"
   ]
  },
  {
   "cell_type": "code",
   "execution_count": 32,
   "id": "068386eb-82a8-4633-8e15-feba3b256589",
   "metadata": {},
   "outputs": [],
   "source": [
    "import imblearn"
   ]
  },
  {
   "cell_type": "code",
   "execution_count": 33,
   "id": "9aedbcdb-9b78-44a3-b77a-cd67e4f7536f",
   "metadata": {},
   "outputs": [],
   "source": [
    "no_rotors_df = rotors_train_df[rotors_train_df[target_feature_name] == False]\n",
    "rotors_df = rotors_train_df[rotors_train_df[target_feature_name] == True]"
   ]
  },
  {
   "cell_type": "code",
   "execution_count": 34,
   "id": "119bc0f7-0da8-41bd-a8b6-e83a177edf01",
   "metadata": {},
   "outputs": [],
   "source": [
    "num_resamples = 5000"
   ]
  },
  {
   "cell_type": "code",
   "execution_count": 35,
   "id": "5f86699b-36d6-4a45-8ff0-b1f55bd75386",
   "metadata": {},
   "outputs": [],
   "source": [
    "rotors_resampled_train = pandas.concat([\n",
    "    no_rotors_df.sample(num_resamples, replace=True),\n",
    "    rotors_df.sample(num_resamples, replace=True),\n",
    "])"
   ]
  },
  {
   "cell_type": "code",
   "execution_count": 36,
   "id": "e492d4a2-e292-4b1d-9964-089873b1ef3f",
   "metadata": {},
   "outputs": [
    {
     "name": "stderr",
     "output_type": "stream",
     "text": [
      "/home/h01/shaddad/.conda/envs/ml-weather-tutorial-skl/lib/python3.8/site-packages/sklearn/utils/validation.py:63: DataConversionWarning: A column-vector y was passed when a 1d array was expected. Please change the shape of y to (n_samples, ), for example using ravel().\n",
      "  return f(*args, **kwargs)\n"
     ]
    }
   ],
   "source": [
    "X_train_resampled_rotors = preproc_input(rotors_resampled_train, preproc_dict)\n",
    "y_train_resampled_rotors = preproc_target(rotors_resampled_train, target_encoder)"
   ]
  },
  {
   "cell_type": "code",
   "execution_count": 37,
   "id": "ca3e74f0-1ad9-4255-bfa2-af726978d365",
   "metadata": {},
   "outputs": [
    {
     "name": "stdout",
     "output_type": "stream",
     "text": [
      "CPU times: user 31.4 s, sys: 8.01 ms, total: 31.4 s\n",
      "Wall time: 31.4 s\n"
     ]
    }
   ],
   "source": [
    "%%time\n",
    "hpt_resampled = sklearn.model_selection.RandomizedSearchCV(estimator=sklearn.tree.DecisionTreeClassifier(),\n",
    "                                                        param_distributions={\n",
    "                                                            'max_depth': scipy.stats.randint(5,10), \n",
    "                                                            'min_samples_leaf': scipy.stats.randint(1,7),\n",
    "                                                            'min_samples_split': scipy.stats.randint(4,20),\n",
    "                                                        },\n",
    "                                                        cv=sklearn.model_selection.KFold(n_splits=5, shuffle=True),\n",
    "                                                        n_iter=20,\n",
    "                                                        scoring='balanced_accuracy',\n",
    "                                                     )\n",
    "res1 = hpt_resampled.fit(X_train_resampled_rotors, y_train_resampled_rotors) "
   ]
  },
  {
   "cell_type": "code",
   "execution_count": 38,
   "id": "726fc211-5dff-4c54-b970-9b118b775275",
   "metadata": {},
   "outputs": [
    {
     "data": {
      "text/plain": [
       "{'ccp_alpha': 0.0,\n",
       " 'class_weight': None,\n",
       " 'criterion': 'gini',\n",
       " 'max_depth': 9,\n",
       " 'max_features': None,\n",
       " 'max_leaf_nodes': None,\n",
       " 'min_impurity_decrease': 0.0,\n",
       " 'min_impurity_split': None,\n",
       " 'min_samples_leaf': 2,\n",
       " 'min_samples_split': 7,\n",
       " 'min_weight_fraction_leaf': 0.0,\n",
       " 'random_state': None,\n",
       " 'splitter': 'best'}"
      ]
     },
     "execution_count": 38,
     "metadata": {},
     "output_type": "execute_result"
    }
   ],
   "source": [
    "hpt_resampled.best_estimator_.get_params()"
   ]
  },
  {
   "cell_type": "code",
   "execution_count": 39,
   "id": "8c1298cd-98dc-4beb-88b8-c815ad5fea01",
   "metadata": {},
   "outputs": [
    {
     "data": {
      "text/plain": [
       "(array([0.98433735, 0.21276596]),\n",
       " array([0.88038793, 0.69767442]),\n",
       " array([0.9294653 , 0.32608696]),\n",
       " array([2784,  129]))"
      ]
     },
     "execution_count": 39,
     "metadata": {},
     "output_type": "execute_result"
    }
   ],
   "source": [
    "sklearn.metrics.precision_recall_fscore_support(\n",
    "    y_test_rotors, \n",
    "    hpt_resampled.best_estimator_.predict(X_test_rotors)\n",
    ")"
   ]
  },
  {
   "cell_type": "markdown",
   "id": "8eeb626a-75f4-4d14-bb2e-df70c0853ca5",
   "metadata": {},
   "source": [
    "## Example - Feature Importance"
   ]
  },
  {
   "cell_type": "code",
   "execution_count": 40,
   "id": "e5137501-1fac-45e3-9590-7600609d42aa",
   "metadata": {},
   "outputs": [],
   "source": [
    "import sklearn.inspection"
   ]
  },
  {
   "cell_type": "code",
   "execution_count": 41,
   "id": "64e5f9d0-b23f-41de-965e-062ddba4489c",
   "metadata": {},
   "outputs": [
    {
     "name": "stdout",
     "output_type": "stream",
     "text": [
      "CPU times: user 2 s, sys: 2.02 ms, total: 2 s\n",
      "Wall time: 2 s\n"
     ]
    },
    {
     "data": {
      "text/plain": [
       "dict_keys(['importances_mean', 'importances_std', 'importances'])"
      ]
     },
     "execution_count": 41,
     "metadata": {},
     "output_type": "execute_result"
    }
   ],
   "source": [
    "%%time\n",
    "importances_dict_resampled = sklearn.inspection.permutation_importance(\n",
    "    estimator=hpt_resampled.best_estimator_,\n",
    "    X=X_test_rotors,\n",
    "    y=y_test_rotors,\n",
    "    scoring='recall',    \n",
    "    n_repeats=10,\n",
    ")\n",
    "importances_dict_resampled.keys()"
   ]
  },
  {
   "cell_type": "code",
   "execution_count": 42,
   "id": "6c5fba03-d61a-4a07-bf27-20b7d15024a9",
   "metadata": {},
   "outputs": [
    {
     "data": {
      "text/plain": [
       "<AxesSubplot:ylabel='feature'>"
      ]
     },
     "execution_count": 42,
     "metadata": {},
     "output_type": "execute_result"
    },
    {
     "data": {
      "image/png": "[encoded data removed]",
      "text/plain": [
       "<Figure size 720x2160 with 1 Axes>"
      ]
     },
     "metadata": {
      "needs_background": "light"
     },
     "output_type": "display_data"
    }
   ],
   "source": [
    "pandas.DataFrame({\n",
    "    'feature': input_feature_names, \n",
    "    'importance_mean':  importances_dict_resampled['importances_mean']\n",
    "}).plot.barh(x='feature',y='importance_mean',figsize=(10,30))"
   ]
  },
  {
   "cell_type": "markdown",
   "id": "f65ef980-9f77-41b4-ba9c-14452cae8f20",
   "metadata": {},
   "source": [
    "### Example - Experiment tracking"
   ]
  },
  {
   "cell_type": "code",
   "execution_count": 43,
   "id": "6db75333-bdc1-4aeb-9a70-bfb3934f57ed",
   "metadata": {},
   "outputs": [],
   "source": [
    "import mlflow"
   ]
  },
  {
   "cell_type": "markdown",
   "id": "a5adcd91-8eee-4ce5-8c65-3a96dec1343d",
   "metadata": {},
   "source": [
    "## Examples of use\n",
    "*UNDER  CONSTRUCTION*\n"
   ]
  },
  {
   "cell_type": "markdown",
   "id": "510b0c47-f10c-4f14-99a2-5be7fa87b0a2",
   "metadata": {},
   "source": [
    "## Next steps\n",
    "\n",
    "### Reproducible Scaleable Machine Learning\n",
    "\n",
    "Making use of the techniques described here, especially hyperparameter tuning, is very compute intensive and produces a lot of data to keep track of. Two sets of tools from the [MLOps](https://blogs.nvidia.com/blog/2020/09/03/what-is-mlops/) space including parallelisation tools, to run multiple training runs in parallel on a cluster, and experiment tracking or ML lifecycle tools, to keep track of which inputs and hyperparameters correspond to which trained model and the associated metrics and visualisations over the course of the experiment and provide evidence to build trust in subsequent deployment of ML based products.\n",
    "\n",
    "Scalable ML\n",
    "* [dask-ml](https://ml.dask.org/)\n",
    "* [ray](https://www.ray.io/)\n",
    "\n",
    "Experiment Tracking\n",
    "* [ML Flow](https://mlflow.org/)\n",
    "\n",
    "### Further machine learning overview tutorials\n",
    "https://github.com/djgagne/ams-ml-python-course\n",
    "\n",
    "### Interpretable/Explainable Machine Learning - Theory\n",
    "* https://christophm.github.io/interpretable-ml-book/limo.html\n",
    "* https://github.com/interpretml/interpret\n",
    "\n",
    "Interpretable/Explainable Machine Learning - Practical Examples\n",
    "Colab - What IF Tool (WIT)\n",
    "* https://pair-code.github.io/what-if-tool/\n",
    "* https://colab.research.google.com/github/pair-code/what-if-tool/blob/master/WIT_COMPAS_with_SHAP.ipynb#scrollTo=iywHwbJJkeYG\n",
    "* https://github.com/neomatrix369/awesome-ai-ml-dl/blob/master/data/model-analysis-interpretation-explainability.md\n"
   ]
  },
  {
   "cell_type": "markdown",
   "id": "669cd64f-26da-42ad-8309-c0fcf28d7c2e",
   "metadata": {
    "jp-MarkdownHeadingCollapsed": true,
    "tags": []
   },
   "source": [
    "## Dataset Info\n",
    "\n",
    "### Falklands Rotors Challenge Dataset\n",
    "Crown Copyright 2021 - This dataset was created by Met Office Chief Operational Meterologist Steve Ramsdale from Met Office forecast and observation data.\n",
    "* Model Data - Met Office Global 10km resolution model\n",
    "* Observations - made by meteorologists at Mount Pleasant airfield in the Falkland Islands.\n"
   ]
  },
  {
   "cell_type": "markdown",
   "id": "2bcb58a9-80b7-41d4-a82e-090b931d4d27",
   "metadata": {
    "tags": []
   },
   "source": [
    "## References\n",
    "\n",
    "Hyperparameter search\n",
    "* [Hyperparameter tuning with scikit-learn - Machine Larning Mastery](https://machinelearningmastery.com/hyperparameter-optimization-with-random-search-and-grid-search/)\n",
    "* [scikit-learn docs](https://scikit-learn.org/stable/modules/grid_search.html#multimetric-grid-search)\n",
    "\n",
    "Data Resampling\n",
    "* [Imbalanced Learn docs](https://www.google.com/url?sa=t&rct=j&q=&esrc=s&source=web&cd=&cad=rja&uact=8&ved=2ahUKEwiru8rfifT4AhUTQ8AKHWyYAmkQFnoECBQQAQ&url=https%3A%2F%2Fimbalanced-learn.org%2F&usg=AOvVaw1LZ6uQInqba1dPLNkmMvhL)\n",
    "* [Introduction to SMOTE](https://machinelearningmastery.com/smote-oversampling-for-imbalanced-classification/)\n",
    "\n",
    "Feature Importance\n",
    "* [Introduction to feature importance for interpretability - Towards Data Science](https://towardsdatascience.com/from-scratch-permutation-feature-importance-for-ml-interpretability-b60f7d5d1fe9)\n",
    "* [scikit learn feature importance docs](https://scikit-learn.org/stable/modules/permutation_importance.html)\n",
    "\n",
    "Experiment Tracking\n",
    "* [ML Flow docs](https://www.mlflow.org/docs/latest/index.html)"
   ]
  }
 ],
 "metadata": {
  "kernelspec": {
   "display_name": ".conda-ml-weather-tutorial-skl Python (Conda)",
   "language": "python",
   "name": "conda-env-.conda-ml-weather-tutorial-skl-py"
  },
  "language_info": {
   "codemirror_mode": {
    "name": "ipython",
    "version": 3
   },
   "file_extension": ".py",
   "mimetype": "text/x-python",
   "name": "python",
   "nbconvert_exporter": "python",
   "pygments_lexer": "ipython3",
   "version": "3.8.13"
  }
 },
 "nbformat": 4,
 "nbformat_minor": 5
}
