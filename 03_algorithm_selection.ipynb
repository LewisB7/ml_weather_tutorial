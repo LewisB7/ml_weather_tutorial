{
 "cells": [
  {
   "cell_type": "markdown",
   "id": "5e6d58f1-20fc-4368-93d7-11f47cdd2cef",
   "metadata": {},
   "source": [
    "# Algorithm & Metric Deep Dive - Making appropriate choices for your problem"
   ]
  },
  {
   "cell_type": "markdown",
   "id": "fb798bbe-e4a4-4da9-9539-3a4065ca6572",
   "metadata": {
    "tags": []
   },
   "source": [
    "NOOA template sections\n",
    "## Overview \n"
   ]
  },
  {
   "cell_type": "markdown",
   "id": "a174fd29-1d97-435d-b5df-f7afbc70a7d2",
   "metadata": {},
   "source": [
    "\n",
    "### Prerequisites\n",
    "xx"
   ]
  },
  {
   "cell_type": "markdown",
   "id": "85f980f2-1d40-41d2-974c-aef97592e7af",
   "metadata": {},
   "source": [
    "\n",
    "### Learning Outcomes \n",
    "xx"
   ]
  },
  {
   "cell_type": "code",
   "execution_count": null,
   "id": "720326b5-f112-4af5-bec8-aafb18c834a7",
   "metadata": {},
   "outputs": [],
   "source": []
  },
  {
   "cell_type": "code",
   "execution_count": null,
   "id": "88b956e5-d08d-4717-9660-a9f5147612ad",
   "metadata": {},
   "outputs": [],
   "source": []
  },
  {
   "cell_type": "code",
   "execution_count": null,
   "id": "1a8fa884-49de-43df-9b0c-b22a4aefe6df",
   "metadata": {},
   "outputs": [],
   "source": []
  },
  {
   "cell_type": "code",
   "execution_count": null,
   "id": "8fd2a523-0dbb-416c-b1ce-72d1badf0a05",
   "metadata": {},
   "outputs": [],
   "source": []
  },
  {
   "cell_type": "code",
   "execution_count": null,
   "id": "bcb8c5c2-6998-41a5-873d-4a3e2ca2280a",
   "metadata": {},
   "outputs": [],
   "source": []
  },
  {
   "cell_type": "markdown",
   "id": "d32d8f31-1bce-4f9a-a653-51c9c10fa7a4",
   "metadata": {},
   "source": [
    "## Tutorial \n",
    "\n",
    "Description of decision tree\n",
    "* basic tree\n",
    "* training\n",
    "* measuring performance\n",
    "* advanced trees - random forest\n",
    "* advanced gradient boosted trees\n",
    "\n",
    "Description of NNs\n",
    "\n",
    "Training\n",
    "* back propogation\n",
    "* mini batches\n",
    "\n",
    "Types of NN\n",
    "* feed forward\n",
    "* CNN\n",
    "* LSTM\n",
    "* Graph NN\n",
    "\n",
    "Description\n"
   ]
  },
  {
   "cell_type": "markdown",
   "id": "ec4d843f-d6c6-4089-9207-826814820407",
   "metadata": {},
   "source": [
    "## Excercise \n",
    "xx\n"
   ]
  },
  {
   "cell_type": "markdown",
   "id": "42eaaf1f-db71-4fc4-b35f-693285553bc4",
   "metadata": {},
   "source": [
    "## Problem 3 - Radiation Emulation (Regression)"
   ]
  },
  {
   "cell_type": "markdown",
   "id": "89950120-33dd-4f51-87d2-b2d99672dcc0",
   "metadata": {},
   "source": [
    "## Examples of use\n",
    "xx\n"
   ]
  },
  {
   "cell_type": "markdown",
   "id": "5f9ba8b3-f653-497e-a8f3-cf86c30d3b54",
   "metadata": {},
   "source": [
    "## Next steps\n",
    "xx\n"
   ]
  },
  {
   "cell_type": "markdown",
   "id": "fb9d6187-9d49-4722-b56b-77e05b1989b5",
   "metadata": {},
   "source": [
    "## Dataset Info\n",
    "xx"
   ]
  },
  {
   "cell_type": "markdown",
   "id": "f832efc6-7cb1-47d3-a7f2-89655afa20e8",
   "metadata": {},
   "source": [
    "## References\n",
    "xx\n"
   ]
  },
  {
   "cell_type": "code",
   "execution_count": null,
   "id": "8bd136b7-29b8-4a85-8f93-63152b1c69c8",
   "metadata": {},
   "outputs": [],
   "source": []
  }
 ],
 "metadata": {
  "kernelspec": {
   "display_name": ".conda-ml-weather-tutorial-skl Python (Conda)",
   "language": "python",
   "name": "conda-env-.conda-ml-weather-tutorial-skl-py"
  },
  "language_info": {
   "codemirror_mode": {
    "name": "ipython",
    "version": 3
   },
   "file_extension": ".py",
   "mimetype": "text/x-python",
   "name": "python",
   "nbconvert_exporter": "python",
   "pygments_lexer": "ipython3",
   "version": "3.8.13"
  }
 },
 "nbformat": 4,
 "nbformat_minor": 5
}
