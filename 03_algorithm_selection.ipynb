{
 "cells": [
  {
   "cell_type": "markdown",
   "id": "5e6d58f1-20fc-4368-93d7-11f47cdd2cef",
   "metadata": {},
   "source": [
    "# Algorithm & Metric Deep Dive - Making appropriate choices for your problem"
   ]
  },
  {
   "cell_type": "markdown",
   "id": "fb798bbe-e4a4-4da9-9539-3a4065ca6572",
   "metadata": {
    "tags": []
   },
   "source": [
    "## Overview \n",
    "\n",
    "In the previous notebook, we built a machine learning containing all the important elements we would find in any sophisticated, real world pipeline, but in our example we used quite simple components for each step. Even still, there were quite a number of *hyperparameters* we had to choose along the way, without having understood what we were choosing and why, or more importantly, what would be a good choice for our particular problem and the dataset. This notebook will attempt to give a little insight into how key ML algorithms work with aim of giving some basic understanding of what the hyperparameters mean and how they influence the end result. This will hopefully be a starting point for making approproate chopices of algorithm, hyperparamters and metrics. \n"
   ]
  },
  {
   "cell_type": "markdown",
   "id": "a174fd29-1d97-435d-b5df-f7afbc70a7d2",
   "metadata": {},
   "source": [
    "### Prerequisites\n",
    "* Completed notebooks 1 & 2"
   ]
  },
  {
   "cell_type": "markdown",
   "id": "a3db6639-c81c-438b-a792-f4ed8ca27f0f",
   "metadata": {},
   "source": [
    "### Learning Outcomes \n",
    "\n",
    "* Understand mechanisms of key tree based and neural network algorithms\n",
    "* Understand key hyperparameters and how to choose them\n",
    "* Understand key metrics and how to select the right one for your problem"
   ]
  },
  {
   "cell_type": "markdown",
   "id": "40af0dd1-fc66-4b0f-8f29-ca2a8568c02a",
   "metadata": {},
   "source": [
    "### Links to Best practices and Values\n",
    "* ML Pitfalls - Avoid problems such as overfitting and underfitting through appropriate choice of algorithms and hyperparameters\n",
    "* Ethics - Be able to justify your choices for what you have implemented.\n",
    "* ML Lifecycle - Ensure you are able to reproduce results\n"
   ]
  },
  {
   "cell_type": "markdown",
   "id": "ee931066-ee2a-447b-bbdb-267fbeeb4e47",
   "metadata": {},
   "source": [
    "### Data Science Framework\n",
    "* Weather regimes - Discovery and Attribution\n",
    "* Radiation emulation - Fusing Simulation and Data Science\n",
    "* XBT - Uncertainty and Trust\n",
    "* Rotors - Data to Decisions"
   ]
  },
  {
   "cell_type": "markdown",
   "id": "85f980f2-1d40-41d2-974c-aef97592e7af",
   "metadata": {},
   "source": [
    "## Tutorial - Decision Trees\n",
    "Decision trees\n",
    "\n",
    "\n",
    "Root node: The base of the decision tree.\n",
    "Splitting: The process of dividing a node into multiple sub-nodes.\n",
    "Decision node: When a sub-node is further split into additional sub-nodes.\n",
    "Leaf node: When a sub-node does not further split into additional sub-nodes; represents possible outcomes.\n",
    "Pruning: The process of removing sub-nodes of a decision tree.\n",
    "Branch: A subsection of the decision tree consisting of multiple nodes.\n",
    "Hyoerparameters\n",
    "Max depth\n",
    "Image of tree https://miro.medium.com/max/1400/1*3P1333UmqEww6YMpjisj4Q.png from article https://towardsdatascience.com/decision-trees-explained-3ec41632ceb6 \n",
    "\n",
    "Maths of CART algorithm\n",
    "\n",
    "https://towardsdatascience.com/the-mathematics-of-decision-trees-random-forest-and-feature-importance-in-scikit-learn-and-spark-f2861df67e3\n",
    "How does this relate to decision trees hyperparameters\n",
    "\n",
    "In the decision tree, the nodes are split into subnodes on the basis of a threshold value of an attribute. The CART algorithm does that by searching for the best homogeneity for the subnodes, with the help of the Gini Index criterion. \n",
    "Quote from https://www.analyticssteps.com/blogs/classification-and-regression-tree-cart-algorithm  \n",
    "Training terms\n",
    "* Greedy algorithm\n",
    "* Stopping criteria\n",
    "* Pruning\n",
    "\n",
    "Use XBT example for trees\n",
    "Show XBT flowchart\n",
    "Example code\n",
    "Régression va classification trees\n",
    "\n",
    "Décision tree visualisation\n",
    "Variants:\n",
    "• random forest\n",
    "• Gradient boosted\n",
    "• Xgboost \n",
    "Random forest discussion \n",
    "Deals with variance Leo breiman\n",
    "Key terms\n",
    "Bgging\n",
    "Bootstapping\n",
    "aggregation\n",
    "Ensemble model\n",
    "\n",
    "\n",
    "Advantages\n",
    "\n",
    "Works for numerical or categorical data and variables.\n",
    "Models problems with multiple outputs.\n",
    "Tests the reliability of the tree.\n",
    "Requires less data cleaning than other data modeling techniques. Easy to explain to those without an analytical background.\n",
    "\n",
    "Disadvantages\n",
    "Affected by noise in the data.\n",
    "Not ideal for large datasets.\n",
    "Can disproportionately value, or weigh, attributes.\n",
    "The decisions at nodes are limited to binary outcomes, reducing the complexity that the tree can handle. Trees can become very complex when dealing with uncertainty and numerous linked outcomes. \n",
    "\n",
    "\n"
   ]
  },
  {
   "cell_type": "markdown",
   "id": "949ea8c6-2ead-41b3-b7c3-71b946891c9e",
   "metadata": {},
   "source": [
    "# Example: Decision Trees - XBT classification"
   ]
  },
  {
   "cell_type": "code",
   "execution_count": null,
   "id": "0c78392c-694f-49a1-9347-35983ad1c0d7",
   "metadata": {},
   "outputs": [],
   "source": [
    "# load in xbt data\n",
    "# clean xbt data"
   ]
  },
  {
   "cell_type": "code",
   "execution_count": null,
   "id": "5af060a4-ab32-48b0-8b20-372a76433306",
   "metadata": {},
   "outputs": [],
   "source": [
    "# preprocess\n",
    "# select features\n",
    "# prepare data"
   ]
  },
  {
   "cell_type": "code",
   "execution_count": null,
   "id": "9383a5ba-3ba4-4bdd-beab-977eefefe045",
   "metadata": {},
   "outputs": [],
   "source": [
    "# setup and train decision tree"
   ]
  },
  {
   "cell_type": "code",
   "execution_count": null,
   "id": "7293a454-6584-4e99-9451-a0415aaa7965",
   "metadata": {},
   "outputs": [],
   "source": [
    "# visualise branches of decision tree"
   ]
  },
  {
   "cell_type": "code",
   "execution_count": null,
   "id": "4f647f39-580e-4e8e-89ff-f59ece58a388",
   "metadata": {},
   "outputs": [],
   "source": [
    "# train random forest\n"
   ]
  },
  {
   "cell_type": "code",
   "execution_count": 4,
   "id": "29be4895-11b6-427f-8dc7-2ee20bdc7ed9",
   "metadata": {},
   "outputs": [],
   "source": [
    "# look at internal of random forest (number of trees, bags etc.)"
   ]
  },
  {
   "cell_type": "code",
   "execution_count": null,
   "id": "32c0e37b-5926-4e3d-86ce-2b2808637d99",
   "metadata": {},
   "outputs": [],
   "source": [
    "# evaluate results from random forest and decision tree"
   ]
  },
  {
   "cell_type": "code",
   "execution_count": null,
   "id": "ee1ae1e4-f7cd-491b-a7c7-54c7f254f885",
   "metadata": {},
   "outputs": [],
   "source": []
  },
  {
   "cell_type": "markdown",
   "id": "6c28f9d5-68b8-46b8-896f-f5a1cfcf2075",
   "metadata": {},
   "source": [
    "## Tutorial - Neural Networks\n",
    "\n",
    "Description of Neural networks\n",
    "* Explain a single perceptron\n",
    "* History\n",
    "* Weighted sum plus threshold (binary activation)\n",
    "* Non linear activation, sigmoid neuron\n",
    "\n",
    "Key terms\n",
    "* neuron\n",
    "* Perceptron\n",
    "* Activation\n",
    "* Weights\n",
    "* Bias - the constant term\n",
    "* Sigmoid function\n",
    "\n",
    "Multi layer\n",
    "* How are they joined together?\n",
    "\n",
    "How do we train? \n",
    "* Gradient descent\n",
    "* Stochastic gradient decscent\n",
    "* Back propagation \n",
    "\n",
    "Key terms\n",
    "* gradient descent\n",
    "* Learning rate\n",
    "* back propagation\n",
    "* mini batch\n",
    "* epoch\n",
    "* copst function\n",
    "\n",
    "Hyperparameters\n",
    "* batch size\n",
    "* learning rate\n",
    "* solver\n",
    "* maximum iterations\n",
    "\n",
    " \n",
    "Types of NN\n",
    "* feed forward\n",
    "* Convolutional Neural Network\n",
    "* Recurrent Neural Network\n",
    "* Graphical Neural Network\n",
    " "
   ]
  },
  {
   "cell_type": "markdown",
   "id": "51a9ee1f-3c6d-4a4f-8117-a6720ed2337f",
   "metadata": {},
   "source": [
    "## Example - Scorates Radiation Model Emulation\n",
    "\n",
    "Explain problem and dataset"
   ]
  },
  {
   "cell_type": "code",
   "execution_count": null,
   "id": "2d47a88f-7c9e-4148-8125-f0fb9e288531",
   "metadata": {},
   "outputs": [],
   "source": [
    "# load in scorates data"
   ]
  },
  {
   "cell_type": "code",
   "execution_count": null,
   "id": "0fb16076-85ab-49e9-9a4e-98d437da5d9a",
   "metadata": {},
   "outputs": [],
   "source": [
    "# prepreprroces"
   ]
  },
  {
   "cell_type": "code",
   "execution_count": null,
   "id": "a5fb8e27-4066-4572-941a-75451ee538a7",
   "metadata": {},
   "outputs": [],
   "source": [
    "# train test split??"
   ]
  },
  {
   "cell_type": "code",
   "execution_count": 2,
   "id": "7d1d0098-fdf0-41d9-b876-5c638d7ac330",
   "metadata": {},
   "outputs": [],
   "source": [
    "# construct FF architecture"
   ]
  },
  {
   "cell_type": "code",
   "execution_count": null,
   "id": "1825e462-ad13-40c9-88da-c95a9e9ab329",
   "metadata": {},
   "outputs": [],
   "source": [
    "# train NN"
   ]
  },
  {
   "cell_type": "code",
   "execution_count": null,
   "id": "650c0064-36d6-4366-9cb4-a905173eb0de",
   "metadata": {},
   "outputs": [],
   "source": [
    "# evaluate"
   ]
  },
  {
   "cell_type": "code",
   "execution_count": null,
   "id": "ccddfd09-7f52-4e77-96b6-e396f3a50cdd",
   "metadata": {},
   "outputs": [],
   "source": [
    "# train 1D CNN"
   ]
  },
  {
   "cell_type": "code",
   "execution_count": null,
   "id": "d5e56988-45e6-44a8-ae72-8841cfb73607",
   "metadata": {},
   "outputs": [],
   "source": [
    "# evaluate and compare"
   ]
  },
  {
   "cell_type": "code",
   "execution_count": null,
   "id": "ac2f8893-db55-4da0-bee6-1a1c72ac2885",
   "metadata": {},
   "outputs": [],
   "source": []
  },
  {
   "cell_type": "code",
   "execution_count": null,
   "id": "bcb8c5c2-6998-41a5-873d-4a3e2ca2280a",
   "metadata": {},
   "outputs": [],
   "source": [
    "# load rotors data"
   ]
  },
  {
   "cell_type": "code",
   "execution_count": null,
   "id": "cd6b7e50-4595-47ce-b11a-70da4ac4ecec",
   "metadata": {},
   "outputs": [],
   "source": [
    "# clean, preprocess, split based on year"
   ]
  },
  {
   "cell_type": "code",
   "execution_count": null,
   "id": "0bc6c527-fbf5-411f-a81b-ee170251c87f",
   "metadata": {},
   "outputs": [],
   "source": [
    "# create LSTM"
   ]
  },
  {
   "cell_type": "code",
   "execution_count": null,
   "id": "e4a81caf-830e-407e-92aa-60cb1e19be61",
   "metadata": {},
   "outputs": [],
   "source": [
    "# train LSTM"
   ]
  },
  {
   "cell_type": "code",
   "execution_count": 3,
   "id": "7d676600-4a91-497c-ab80-8ad1c4218138",
   "metadata": {},
   "outputs": [],
   "source": [
    "# evaluate (compare to previous notebook results)"
   ]
  },
  {
   "cell_type": "code",
   "execution_count": null,
   "id": "5ecb5a89-391c-43ea-80b7-a24dd0920c9b",
   "metadata": {},
   "outputs": [],
   "source": []
  },
  {
   "cell_type": "code",
   "execution_count": null,
   "id": "265004d5-67ab-4d1e-ae67-ebbaa5de8409",
   "metadata": {},
   "outputs": [],
   "source": []
  },
  {
   "cell_type": "markdown",
   "id": "d32d8f31-1bce-4f9a-a653-51c9c10fa7a4",
   "metadata": {},
   "source": [
    "## Tutorial - Metrics\n",
    "\n",
    "\n",
    "Description of metrics\n",
    "* classification metrics\n",
    "* regression metrics"
   ]
  },
  {
   "cell_type": "markdown",
   "id": "ec4d843f-d6c6-4089-9207-826814820407",
   "metadata": {},
   "source": [
    "## Excercise - Metrics\n",
    "xx\n"
   ]
  },
  {
   "cell_type": "markdown",
   "id": "89950120-33dd-4f51-87d2-b2d99672dcc0",
   "metadata": {},
   "source": [
    "## Examples of use\n",
    "xx\n"
   ]
  },
  {
   "cell_type": "markdown",
   "id": "5f9ba8b3-f653-497e-a8f3-cf86c30d3b54",
   "metadata": {},
   "source": [
    "## Next steps\n",
    "Rotor Challenge\n",
    "Radiation emulation\n",
    "\n",
    "\n"
   ]
  },
  {
   "cell_type": "markdown",
   "id": "fb9d6187-9d49-4722-b56b-77e05b1989b5",
   "metadata": {},
   "source": [
    "## Dataset Info\n",
    "* XBT Data\n",
    "* Radiation Emulation\n",
    "* Rotors"
   ]
  },
  {
   "cell_type": "markdown",
   "id": "f832efc6-7cb1-47d3-a7f2-89655afa20e8",
   "metadata": {},
   "source": [
    "## References\n",
    "\n",
    "\n",
    "Decision trees\n",
    "* https://www.mastersindatascience.org/learning/introduction-to-machine-learning-algorithms/decision-tree/#:~:text=A\n",
    "* https://towardsdatascience.com/decision-trees-explained-3ec41632ceb6\n",
    "* \n",
    "\n",
    "Neural Networks\n",
    "* [Introduction to Neural Networks - Kaggle](https://www.kaggle.com/code/carlosaguayo/introduction-to-neural-networks/notebook)\n",
    "* [Back propagation - wikipedia](https://en.wikipedia.org/wiki/Backpropagation)\n",
    "*[Back propagation - brilliant wiki](https://brilliant.org/wiki/backpropagation/#:~:text=Backpropagation%2C%20short%20for%20%22backward%20propagation,to%20the%20neural%20network's%20weights)\n",
    "* [Introduction to Deep Learning - Kaggle](https://www.kaggle.com/learn/intro-to-deep-learning)\n",
    "* [Introduction to Neural Networks - IBM](https://www.ibm.com/cloud/learn/neural-networks)\n",
    "* [Neural Networks - MIT](https://news.mit.edu/2017/explained-neural-networks-deep-learning-0414)\n",
    "\n",
    "* RNN\n",
    "* CNN\n",
    "* GNN\n",
    "\n",
    "Metrics\n",
    "* [Regression and Classification metrics - scikit-learn](https://scikit-learn.org/stable/modules/model_evaluation.html)\n",
    "* \n",
    "\n"
   ]
  },
  {
   "cell_type": "code",
   "execution_count": null,
   "id": "8bd136b7-29b8-4a85-8f93-63152b1c69c8",
   "metadata": {},
   "outputs": [],
   "source": []
  }
 ],
 "metadata": {
  "kernelspec": {
   "display_name": "Python 3 (ipykernel)",
   "language": "python",
   "name": "python3"
  },
  "language_info": {
   "codemirror_mode": {
    "name": "ipython",
    "version": 3
   },
   "file_extension": ".py",
   "mimetype": "text/x-python",
   "name": "python",
   "nbconvert_exporter": "python",
   "pygments_lexer": "ipython3",
   "version": "3.8.13"
  }
 },
 "nbformat": 4,
 "nbformat_minor": 5
}
