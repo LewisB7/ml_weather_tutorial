{
 "cells": [
  {
   "cell_type": "markdown",
   "id": "5e6d58f1-20fc-4368-93d7-11f47cdd2cef",
   "metadata": {},
   "source": [
    "# Algorithm & Metric Deep Dive - Making appropriate choices for your problem"
   ]
  },
  {
   "cell_type": "markdown",
   "id": "fb798bbe-e4a4-4da9-9539-3a4065ca6572",
   "metadata": {},
   "source": [
    "NOOA template sections\n",
    "## Overview \n",
    "\n",
    "### Prerequisites\n",
    "xx\n",
    "\n",
    "### Learning Outcomes \n",
    "xx\n",
    "\n",
    "## Tutorial \n",
    "xx\n",
    "\n",
    "## Excercise \n",
    "xx\n",
    "\n",
    "## Examples of use\n",
    "xx\n",
    " \n",
    "## Next steps\n",
    "xx\n",
    "\n",
    "## Dataset Info\n",
    "xx\n",
    "\n",
    "## References\n",
    "xx\n"
   ]
  },
  {
   "cell_type": "code",
   "execution_count": null,
   "id": "4f5e7d6c-e932-4ea0-9bb0-3aa8948e5203",
   "metadata": {},
   "outputs": [],
   "source": []
  },
  {
   "cell_type": "code",
   "execution_count": null,
   "id": "f264a36e-6582-4c32-b042-4e1a5a3b174d",
   "metadata": {},
   "outputs": [],
   "source": []
  },
  {
   "cell_type": "markdown",
   "id": "42eaaf1f-db71-4fc4-b35f-693285553bc4",
   "metadata": {},
   "source": [
    "## Problem 3 - Radiation Emulation (Regression)"
   ]
  },
  {
   "cell_type": "code",
   "execution_count": null,
   "id": "720326b5-f112-4af5-bec8-aafb18c834a7",
   "metadata": {},
   "outputs": [],
   "source": []
  },
  {
   "cell_type": "code",
   "execution_count": null,
   "id": "88b956e5-d08d-4717-9660-a9f5147612ad",
   "metadata": {},
   "outputs": [],
   "source": []
  },
  {
   "cell_type": "code",
   "execution_count": null,
   "id": "1a8fa884-49de-43df-9b0c-b22a4aefe6df",
   "metadata": {},
   "outputs": [],
   "source": []
  },
  {
   "cell_type": "code",
   "execution_count": null,
   "id": "8fd2a523-0dbb-416c-b1ce-72d1badf0a05",
   "metadata": {},
   "outputs": [],
   "source": []
  },
  {
   "cell_type": "code",
   "execution_count": null,
   "id": "bcb8c5c2-6998-41a5-873d-4a3e2ca2280a",
   "metadata": {},
   "outputs": [],
   "source": []
  },
  {
   "cell_type": "code",
   "execution_count": null,
   "id": "15172963-480b-486b-8547-af72254ac7d6",
   "metadata": {},
   "outputs": [],
   "source": []
  },
  {
   "cell_type": "code",
   "execution_count": null,
   "id": "125ed161-9e56-4bd6-a3f3-ac3d8debf2dc",
   "metadata": {},
   "outputs": [],
   "source": []
  },
  {
   "cell_type": "code",
   "execution_count": null,
   "id": "19184c85-5cbc-40ac-b503-e28714456460",
   "metadata": {},
   "outputs": [],
   "source": []
  },
  {
   "cell_type": "code",
   "execution_count": null,
   "id": "bf9deb96-da7b-4112-803b-97b07b8f81f2",
   "metadata": {},
   "outputs": [],
   "source": []
  },
  {
   "cell_type": "code",
   "execution_count": null,
   "id": "0af5cff6-8422-4dba-a175-b6e1ea21da1c",
   "metadata": {},
   "outputs": [],
   "source": []
  },
  {
   "cell_type": "code",
   "execution_count": null,
   "id": "66dfa230-c72f-4e42-9d89-590238b32d98",
   "metadata": {},
   "outputs": [],
   "source": []
  }
 ],
 "metadata": {
  "kernelspec": {
   "display_name": "Python 3 (ipykernel)",
   "language": "python",
   "name": "python3"
  },
  "language_info": {
   "codemirror_mode": {
    "name": "ipython",
    "version": 3
   },
   "file_extension": ".py",
   "mimetype": "text/x-python",
   "name": "python",
   "nbconvert_exporter": "python",
   "pygments_lexer": "ipython3",
   "version": "3.8.13"
  }
 },
 "nbformat": 4,
 "nbformat_minor": 5
}
